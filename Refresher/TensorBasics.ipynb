{
 "metadata": {
  "language_info": {
   "codemirror_mode": {
    "name": "ipython",
    "version": 3
   },
   "file_extension": ".py",
   "mimetype": "text/x-python",
   "name": "python",
   "nbconvert_exporter": "python",
   "pygments_lexer": "ipython3",
   "version": "3.7.8-final"
  },
  "orig_nbformat": 2,
  "kernelspec": {
   "name": "python3",
   "display_name": "Python 3.7.8 64-bit",
   "metadata": {
    "interpreter": {
     "hash": "1e325e5178ef8de04e9f70add7bc7e6856dd15de03602d7d0b4e6dc0f162eaf0"
    }
   }
  }
 },
 "nbformat": 4,
 "nbformat_minor": 2,
 "cells": [
  {
   "cell_type": "code",
   "execution_count": 1,
   "metadata": {},
   "outputs": [],
   "source": [
    "import tensorflow as tf"
   ]
  },
  {
   "cell_type": "code",
   "execution_count": 2,
   "metadata": {},
   "outputs": [],
   "source": [
    "# Initialization of Tensors\n",
    "x = tf.constant(4, shape=(1,1), dtype=tf.float32)\n",
    "x = tf.constant([[1,2,3], [4,5,6]])\n",
    "\n",
    "x = tf.ones((3,3))\n",
    "x = tf.zeros((2,3))\n",
    "x = tf.eye(3) # Identity Matrix\n",
    "\n",
    "x = tf.random.normal((3,3), mean=0, stddev=1) # standard normal distribution\n",
    "x = tf.random.uniform((1,3), minval=0, maxval=1)\n",
    "x = tf.range(start=1, limit=10, delta=2) # Delta is basically steps\n",
    "x = tf.cast(x, dtype=tf.float32) # converting between different types\n",
    "x = tf.cast(x, dtype=tf.int32)"
   ]
  },
  {
   "cell_type": "code",
   "execution_count": 14,
   "metadata": {},
   "outputs": [],
   "source": [
    "# Mathematical constants\n",
    "x = tf.constant([1,2,3])\n",
    "y = tf.constant([4,5,6])\n",
    "z = tf.add(x,y)\n",
    "z = tf.subtract(x,y)\n",
    "\n",
    "z = tf.divide(x, y) # element wise division\n",
    "z = tf.multiply(x, y) # element wise multiplication\n",
    "z = tf.tensordot(x, y, axes=1)\n",
    "z = tf.reduce_sum(x*y, axis=0)\n",
    "\n",
    "z = x**5 # element wise exponentiate\n",
    "\n",
    "x = tf.random.normal((2,3))\n",
    "y = tf.random.normal((3,4))\n",
    "z = tf.matmul(x, y) # matrix multiplication\n",
    "z = x @ y # matrix multiplication"
   ]
  },
  {
   "cell_type": "code",
   "execution_count": 26,
   "metadata": {},
   "outputs": [
    {
     "output_type": "stream",
     "name": "stdout",
     "text": [
      "tf.Tensor([0 1 1 2 3 1 2 3], shape=(8,), dtype=int32)\ntf.Tensor([1 1 2 3 1 2 3], shape=(7,), dtype=int32)\ntf.Tensor([1 1], shape=(2,), dtype=int32)\ntf.Tensor([0 1 3 2], shape=(4,), dtype=int32)\ntf.Tensor([3 2 1 3 2 1 1 0], shape=(8,), dtype=int32)\ntf.Tensor([1 2], shape=(2,), dtype=int32)\ntf.Tensor([2 4], shape=(2,), dtype=int32)\n"
     ]
    }
   ],
   "source": [
    "# Indexing\n",
    "x = tf.constant([0,1,1,2,3,1,2,3])\n",
    "print(x[:])\n",
    "print(x[1:])\n",
    "print(x[1:3])\n",
    "print(x[::2])\n",
    "print(x[::-1]) # Reverse order\n",
    "\n",
    "indices = tf.constant([0,3]) # Extracting indices\n",
    "extract = tf.gather(x, indices)\n",
    "\n",
    "x = tf.constant([[1,2],\n",
    "                 [3,4],\n",
    "                 [5,6]])\n",
    "\n",
    "print(x[0, :])\n",
    "print(x[0:2, 1])"
   ]
  },
  {
   "cell_type": "code",
   "execution_count": 33,
   "metadata": {},
   "outputs": [
    {
     "output_type": "stream",
     "name": "stdout",
     "text": [
      "tf.Tensor(\n[[0 1 2]\n [3 4 5]\n [6 7 8]], shape=(3, 3), dtype=int32)\ntf.Tensor(\n[[0 3 6]\n [1 4 7]\n [2 5 8]], shape=(3, 3), dtype=int32)\n"
     ]
    }
   ],
   "source": [
    "# Reshaping\n",
    "x = tf.range(9)\n",
    "x = tf.reshape(x, (3,3))\n",
    "print(x)\n",
    "x = tf.transpose(x, perm=[1,0])\n",
    "print(x)"
   ]
  }
 ]
}