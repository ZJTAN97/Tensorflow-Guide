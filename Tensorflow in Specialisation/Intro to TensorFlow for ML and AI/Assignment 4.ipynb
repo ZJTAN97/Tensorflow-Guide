{
 "cells": [
  {
   "cell_type": "markdown",
   "metadata": {},
   "source": [
    "Below is code with a link to a happy or sad dataset which contains 80 images, 40 happy and 40 sad. \n",
    "Create a convolutional neural network that trains to 100% accuracy on these images,  which cancels training upon hitting training accuracy of >.999"
   ]
  },
  {
   "cell_type": "code",
   "execution_count": 10,
   "metadata": {},
   "outputs": [],
   "source": [
    "import tensorflow as tf\n",
    "import os\n",
    "import zipfile\n",
    "from os import path, getcwd, chdir\n",
    "\n",
    "path = f'happy-or-sad.zip'\n",
    "\n",
    "zip_ref = zipfile.ZipFile(path,'r')\n",
    "zip_ref.extractall('h-or-s')\n",
    "zip_ref.close()"
   ]
  },
  {
   "cell_type": "code",
   "execution_count": 11,
   "metadata": {},
   "outputs": [
    {
     "name": "stdout",
     "output_type": "stream",
     "text": [
      "Found 80 images belonging to 2 classes.\n",
      "WARNING:tensorflow:sample_weight modes were coerced from\n",
      "  ...\n",
      "    to  \n",
      "  ['...']\n",
      "Train for 8 steps\n",
      "Epoch 1/15\n",
      "8/8 [==============================] - 4s 503ms/step - loss: 3.1345 - accuracy: 0.5625\n",
      "Epoch 2/15\n",
      "8/8 [==============================] - 2s 224ms/step - loss: 0.4765 - accuracy: 0.7969\n",
      "Epoch 3/15\n",
      "8/8 [==============================] - 2s 222ms/step - loss: 0.3459 - accuracy: 0.8594\n",
      "Epoch 4/15\n",
      "8/8 [==============================] - 2s 223ms/step - loss: 0.1702 - accuracy: 0.9375\n",
      "Epoch 5/15\n",
      "8/8 [==============================] - 2s 230ms/step - loss: 0.1467 - accuracy: 0.9375\n",
      "Epoch 6/15\n",
      "8/8 [==============================] - 2s 220ms/step - loss: 0.0640 - accuracy: 0.9844\n",
      "Epoch 7/15\n",
      "8/8 [==============================] - 2s 238ms/step - loss: 0.0612 - accuracy: 0.9688\n",
      "Epoch 8/15\n",
      "8/8 [==============================] - 2s 241ms/step - loss: 0.0668 - accuracy: 0.9688\n",
      "Epoch 9/15\n",
      "8/8 [==============================] - 2s 232ms/step - loss: 0.0153 - accuracy: 1.0000\n"
     ]
    },
    {
     "data": {
      "text/plain": [
       "1.0"
      ]
     },
     "execution_count": 11,
     "metadata": {},
     "output_type": "execute_result"
    }
   ],
   "source": [
    "class myCallback(tf.keras.callbacks.Callback):\n",
    "    def on_epoch_end(self, epoch, logs={}):\n",
    "        if(logs.get('accuracy')>0.999):\n",
    "            self.model.stop_training=True\n",
    "            \n",
    "\n",
    "callbacks = myCallback()\n",
    "\n",
    "# Model\n",
    "model = tf.keras.models.Sequential([\n",
    "    tf.keras.layers.Conv2D(16, (3,3), activation='relu', input_shape=(150,150,3)),\n",
    "    tf.keras.layers.MaxPooling2D(2,2),\n",
    "    tf.keras.layers.Conv2D(32, (3,3), activation='relu'),\n",
    "    tf.keras.layers.MaxPooling2D(2,2),\n",
    "    tf.keras.layers.Conv2D(64, (3,3)),\n",
    "    tf.keras.layers.MaxPooling2D(2,2),\n",
    "    tf.keras.layers.Flatten(),\n",
    "    tf.keras.layers.Dense(512, activation='relu'),\n",
    "    tf.keras.layers.Dense(1, activation='sigmoid')\n",
    "])\n",
    "\n",
    "# Compile model\n",
    "from tensorflow.keras.optimizers import RMSprop\n",
    "model.compile(loss = 'binary_crossentropy',\n",
    "              optimizer = RMSprop(lr=0.001),\n",
    "              metrics=['accuracy'])\n",
    "\n",
    "# ImadeDataGenerator\n",
    "from tensorflow.keras.preprocessing.image import ImageDataGenerator\n",
    "train_datagen = ImageDataGenerator(rescale=1/255)\n",
    "train_generator = train_datagen.flow_from_directory('h-or-s',\n",
    "                                                    target_size=(150,150),\n",
    "                                                    batch_size=8,\n",
    "                                                    class_mode='binary')\n",
    "\n",
    "# Model Fitting\n",
    "history = model.fit_generator(train_generator, \n",
    "                              steps_per_epoch=8,\n",
    "                              epochs=15,\n",
    "                              verbose=1,\n",
    "                              callbacks=[callbacks])\n",
    "\n",
    "history.history['accuracy'][-1]"
   ]
  }
 ],
 "metadata": {
  "kernelspec": {
   "display_name": "Python 3",
   "language": "python",
   "name": "python3"
  },
  "language_info": {
   "codemirror_mode": {
    "name": "ipython",
    "version": 3
   },
   "file_extension": ".py",
   "mimetype": "text/x-python",
   "name": "python",
   "nbconvert_exporter": "python",
   "pygments_lexer": "ipython3",
   "version": "3.7.6"
  }
 },
 "nbformat": 4,
 "nbformat_minor": 4
}
