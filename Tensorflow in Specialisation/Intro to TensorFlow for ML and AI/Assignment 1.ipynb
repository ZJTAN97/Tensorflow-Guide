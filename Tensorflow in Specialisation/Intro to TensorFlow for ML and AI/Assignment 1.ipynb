{
 "cells": [
  {
   "cell_type": "markdown",
   "metadata": {},
   "source": [
    "In this exercise you'll try to build a neural network that predicts the price of a house according to a simple formula.\n",
    "\n",
    "So, imagine if house pricing was as easy as a house costs 50k + 50k per bedroom, so that a 1 bedroom house costs 100k, a 2 bedroom house costs 150k etc.\n",
    "\n",
    "How would you create a neural network that learns this relationship so that it would predict a 7 bedroom house as costing close to 400k etc.\n",
    "\n",
    "Hint: Your network might work better if you scale the house price down. You don't have to give the answer 400...it might be better to create something that predicts the number 4, and then your answer is in the 'hundreds of thousands' etc."
   ]
  },
  {
   "cell_type": "code",
   "execution_count": 1,
   "metadata": {},
   "outputs": [],
   "source": [
    "import tensorflow as tf\n",
    "import numpy as np\n",
    "from tensorflow import keras"
   ]
  },
  {
   "cell_type": "code",
   "execution_count": 8,
   "metadata": {},
   "outputs": [],
   "source": [
    "def house_model(y_new):\n",
    "    xs = np.array([1, 2, 3, 4, 5, 6, 7, 8])\n",
    "    ys = np.array([1, 1.5, 2, 2.5, 3, 3.5, 4, 4.5])\n",
    "    model = keras.Sequential([keras.layers.Dense(units=1, input_shape=[1])])\n",
    "    model.compile(optimizer='sgd', loss='mean_squared_error')\n",
    "    model.fit(xs, ys, epochs=20)\n",
    "    return model.predict(y_new)[0]"
   ]
  },
  {
   "cell_type": "code",
   "execution_count": 9,
   "metadata": {},
   "outputs": [
    {
     "name": "stdout",
     "output_type": "stream",
     "text": [
      "Train on 8 samples\n",
      "Epoch 1/20\n",
      "8/8 [==============================] - 1s 93ms/sample - loss: 82.5225\n",
      "Epoch 2/20\n",
      "8/8 [==============================] - 0s 1ms/sample - loss: 18.5459\n",
      "Epoch 3/20\n",
      "8/8 [==============================] - 0s 377us/sample - loss: 4.1723\n",
      "Epoch 4/20\n",
      "8/8 [==============================] - 0s 629us/sample - loss: 0.9430\n",
      "Epoch 5/20\n",
      "8/8 [==============================] - 0s 400us/sample - loss: 0.2174\n",
      "Epoch 6/20\n",
      "8/8 [==============================] - 0s 520us/sample - loss: 0.0544\n",
      "Epoch 7/20\n",
      "8/8 [==============================] - 0s 487us/sample - loss: 0.0177\n",
      "Epoch 8/20\n",
      "8/8 [==============================] - 0s 410us/sample - loss: 0.0094\n",
      "Epoch 9/20\n",
      "8/8 [==============================] - 0s 457us/sample - loss: 0.0075\n",
      "Epoch 10/20\n",
      "8/8 [==============================] - 0s 575us/sample - loss: 0.0070\n",
      "Epoch 11/20\n",
      "8/8 [==============================] - 0s 464us/sample - loss: 0.0069\n",
      "Epoch 12/20\n",
      "8/8 [==============================] - 0s 438us/sample - loss: 0.0068\n",
      "Epoch 13/20\n",
      "8/8 [==============================] - 0s 126us/sample - loss: 0.0067\n",
      "Epoch 14/20\n",
      "8/8 [==============================] - 0s 374us/sample - loss: 0.0067\n",
      "Epoch 15/20\n",
      "8/8 [==============================] - 0s 307us/sample - loss: 0.0066\n",
      "Epoch 16/20\n",
      "8/8 [==============================] - 0s 312us/sample - loss: 0.0066\n",
      "Epoch 17/20\n",
      "8/8 [==============================] - 0s 498us/sample - loss: 0.0065\n",
      "Epoch 18/20\n",
      "8/8 [==============================] - 0s 634us/sample - loss: 0.0065\n",
      "Epoch 19/20\n",
      "8/8 [==============================] - 0s 285us/sample - loss: 0.0064\n",
      "Epoch 20/20\n",
      "8/8 [==============================] - 0s 212us/sample - loss: 0.0064\n",
      "[4.042934]\n"
     ]
    }
   ],
   "source": [
    "prediction = house_model([7])\n",
    "print(prediction)"
   ]
  },
  {
   "cell_type": "code",
   "execution_count": null,
   "metadata": {},
   "outputs": [],
   "source": []
  }
 ],
 "metadata": {
  "kernelspec": {
   "display_name": "Python 3",
   "language": "python",
   "name": "python3"
  },
  "language_info": {
   "codemirror_mode": {
    "name": "ipython",
    "version": 3
   },
   "file_extension": ".py",
   "mimetype": "text/x-python",
   "name": "python",
   "nbconvert_exporter": "python",
   "pygments_lexer": "ipython3",
   "version": "3.7.6"
  }
 },
 "nbformat": 4,
 "nbformat_minor": 4
}
