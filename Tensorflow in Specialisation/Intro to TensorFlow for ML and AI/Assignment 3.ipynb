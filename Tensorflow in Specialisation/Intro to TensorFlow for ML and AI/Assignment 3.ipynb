{
 "cells": [
  {
   "cell_type": "code",
   "execution_count": 1,
   "metadata": {},
   "outputs": [],
   "source": [
    "import tensorflow as tf\n",
    "from os import path, getcwd, chdir\n",
    "path = f\"{getcwd()}/mnist.npz\""
   ]
  },
  {
   "cell_type": "code",
   "execution_count": 3,
   "metadata": {},
   "outputs": [],
   "source": [
    "def train_mnist_conv():\n",
    "    \n",
    "    class myCallback(tf.keras.callbacks.Callback):\n",
    "        def on_epoch_end(self, epoch, logs={}):\n",
    "            if(logs.get('accuracy')>0.998):\n",
    "                self.model.stop_training = True\n",
    "    \n",
    "    callbacks = myCallback()\n",
    "    \n",
    "    mnist = tf.keras.datasets.mnist\n",
    "    (x_train, y_train), (x_test, y_test) = mnist.load_data(path=path)\n",
    "    \n",
    "    x_train = (x_train.reshape(60000,28,28,1))/255\n",
    "    x_test = (x_test.reshape(10000,28,28,1))/255\n",
    "    \n",
    "    model = tf.keras.models.Sequential([\n",
    "        \n",
    "        tf.keras.layers.Conv2D(64, (3,3), activation='relu', input_shape=(28,28,1)),\n",
    "        tf.keras.layers.MaxPooling2D(2,2),\n",
    "        tf.keras.layers.Flatten(),\n",
    "        tf.keras.layers.Dense(128, activation='relu'),\n",
    "        tf.keras.layers.Dense(10, activation='softmax')\n",
    "    ])\n",
    "    \n",
    "    model.compile(optimizer='adam', loss='sparse_categorical_crossentropy',\n",
    "                  metrics=['accuracy'])\n",
    "    \n",
    "    history = model.fit(x_train, y_train, epochs=20, callbacks=[callbacks])\n",
    "    \n",
    "    return history.epoch, history.history['accuracy'][-1]"
   ]
  },
  {
   "cell_type": "code",
   "execution_count": 5,
   "metadata": {},
   "outputs": [
    {
     "name": "stdout",
     "output_type": "stream",
     "text": [
      "Train on 60000 samples\n",
      "Epoch 1/20\n",
      "60000/60000 [==============================] - 62s 1ms/sample - loss: 0.1397 - accuracy: 0.9580\n",
      "Epoch 2/20\n",
      "60000/60000 [==============================] - 65s 1ms/sample - loss: 0.0484 - accuracy: 0.9847\n",
      "Epoch 3/20\n",
      "60000/60000 [==============================] - 64s 1ms/sample - loss: 0.0296 - accuracy: 0.9908\n",
      "Epoch 4/20\n",
      "60000/60000 [==============================] - 64s 1ms/sample - loss: 0.0191 - accuracy: 0.9938\n",
      "Epoch 5/20\n",
      "60000/60000 [==============================] - 61s 1ms/sample - loss: 0.0129 - accuracy: 0.9959\n",
      "Epoch 6/20\n",
      "60000/60000 [==============================] - 61s 1ms/sample - loss: 0.0087 - accuracy: 0.9969s - loss: 0.008\n",
      "Epoch 7/20\n",
      "60000/60000 [==============================] - 61s 1ms/sample - loss: 0.0074 - accuracy: 0.9973\n",
      "Epoch 8/20\n",
      "60000/60000 [==============================] - 62s 1ms/sample - loss: 0.0056 - accuracy: 0.9981\n"
     ]
    }
   ],
   "source": [
    "_, _ = train_mnist_conv()"
   ]
  }
 ],
 "metadata": {
  "kernelspec": {
   "display_name": "Python 3",
   "language": "python",
   "name": "python3"
  },
  "language_info": {
   "codemirror_mode": {
    "name": "ipython",
    "version": 3
   },
   "file_extension": ".py",
   "mimetype": "text/x-python",
   "name": "python",
   "nbconvert_exporter": "python",
   "pygments_lexer": "ipython3",
   "version": "3.7.6"
  }
 },
 "nbformat": 4,
 "nbformat_minor": 4
}
