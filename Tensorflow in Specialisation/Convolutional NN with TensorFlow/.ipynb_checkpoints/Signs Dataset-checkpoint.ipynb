{
 "cells": [
  {
   "cell_type": "code",
   "execution_count": 1,
   "metadata": {},
   "outputs": [],
   "source": [
    "import csv\n",
    "import numpy as np\n",
    "import tensorflow as tf \n",
    "from tensorflow.keras.preprocessing.image import ImageDataGenerator\n",
    "from os import getcwd"
   ]
  },
  {
   "cell_type": "code",
   "execution_count": 6,
   "metadata": {},
   "outputs": [
    {
     "name": "stdout",
     "output_type": "stream",
     "text": [
      "(27455, 28, 28)\n",
      "(27455,)\n",
      "(7172, 28, 28)\n",
      "(7172,)\n"
     ]
    }
   ],
   "source": [
    "def get_data(filename):\n",
    "    \n",
    "    with open(filename) as training_file:\n",
    "        \n",
    "        data = csv.reader(training_file, delimiter =',')\n",
    "        \n",
    "        # Skip first line as it is header\n",
    "        next(data)\n",
    "        \n",
    "        labels = []\n",
    "        images = []\n",
    "        \n",
    "        for row in data:\n",
    "            \n",
    "            labels.append(row[0])\n",
    "            images.append(np.array_split(row[1:], 28))\n",
    "        \n",
    "        # convert to float\n",
    "        images = np.array(images).astype(float)\n",
    "        labels = np.array(labels).astype(float)\n",
    "        \n",
    "    return images, labels\n",
    "\n",
    "path_sign_mnist_train = f'sign_mnist_train.csv'\n",
    "path_sign_mnist_test = f'sign_mnist_test.csv'\n",
    "training_images, training_labels = get_data(path_sign_mnist_train)\n",
    "testing_images, testing_labels = get_data(path_sign_mnist_test)\n",
    "\n",
    "# Keep these\n",
    "print(training_images.shape)\n",
    "print(training_labels.shape)\n",
    "print(testing_images.shape)\n",
    "print(testing_labels.shape)"
   ]
  },
  {
   "cell_type": "code",
   "execution_count": 14,
   "metadata": {},
   "outputs": [
    {
     "data": {
      "text/plain": [
       "array([ 0.,  1.,  2.,  3.,  4.,  5.,  6.,  7.,  8., 10., 11., 12., 13.,\n",
       "       14., 15., 16., 17., 18., 19., 20., 21., 22., 23., 24.])"
      ]
     },
     "execution_count": 14,
     "metadata": {},
     "output_type": "execute_result"
    }
   ],
   "source": [
    "np.unique(training_labels)"
   ]
  },
  {
   "cell_type": "code",
   "execution_count": 15,
   "metadata": {},
   "outputs": [
    {
     "data": {
      "text/plain": [
       "array([ 0.,  1.,  2.,  3.,  4.,  5.,  6.,  7.,  8., 10., 11., 12., 13.,\n",
       "       14., 15., 16., 17., 18., 19., 20., 21., 22., 23., 24.])"
      ]
     },
     "execution_count": 15,
     "metadata": {},
     "output_type": "execute_result"
    }
   ],
   "source": [
    "np.unique(testing_labels)"
   ]
  },
  {
   "cell_type": "code",
   "execution_count": 7,
   "metadata": {},
   "outputs": [
    {
     "name": "stdout",
     "output_type": "stream",
     "text": [
      "(27455, 28, 28, 1)\n",
      "(7172, 28, 28, 1)\n"
     ]
    }
   ],
   "source": [
    "training_images = np.expand_dims(training_images, axis=-1)\n",
    "testing_images = np.expand_dims(testing_images, axis=-1)\n",
    "\n",
    "training_datagen = ImageDataGenerator(rescale=1/255,\n",
    "                                      rotation_range=40,\n",
    "                                      width_shift_range=0.2,\n",
    "                                      height_shift_range=0.2,\n",
    "                                      shear_range=0.2,\n",
    "                                      horizontal_flip=0.2,\n",
    "                                      fill_mode='nearest')\n",
    "\n",
    "validation_datagen = ImageDataGenerator(rescale=1/255)\n",
    "\n",
    "print(training_images.shape)\n",
    "print(testing_images.shape)"
   ]
  },
  {
   "cell_type": "code",
   "execution_count": 22,
   "metadata": {},
   "outputs": [
    {
     "name": "stdout",
     "output_type": "stream",
     "text": [
      "WARNING:tensorflow:sample_weight modes were coerced from\n",
      "  ...\n",
      "    to  \n",
      "  ['...']\n",
      "WARNING:tensorflow:sample_weight modes were coerced from\n",
      "  ...\n",
      "    to  \n",
      "  ['...']\n",
      "Train for 858 steps, validate for 225 steps\n",
      "Epoch 1/10\n",
      "858/858 [==============================] - 61s 71ms/step - loss: 2.5147 - accuracy: 0.2230 - val_loss: 1.9222 - val_accuracy: 0.3925\n",
      "Epoch 2/10\n",
      "858/858 [==============================] - 58s 68ms/step - loss: 1.6450 - accuracy: 0.4629 - val_loss: 1.1290 - val_accuracy: 0.6011\n",
      "Epoch 3/10\n",
      "858/858 [==============================] - 58s 67ms/step - loss: 1.2183 - accuracy: 0.5951 - val_loss: 1.0175 - val_accuracy: 0.6298\n",
      "Epoch 4/10\n",
      "858/858 [==============================] - 59s 69ms/step - loss: 0.9675 - accuracy: 0.6810 - val_loss: 0.6519 - val_accuracy: 0.7769\n",
      "Epoch 5/10\n",
      "858/858 [==============================] - 59s 69ms/step - loss: 0.7989 - accuracy: 0.7329 - val_loss: 0.7396 - val_accuracy: 0.7553\n",
      "Epoch 6/10\n",
      "858/858 [==============================] - 61s 71ms/step - loss: 0.6758 - accuracy: 0.7721 - val_loss: 0.6270 - val_accuracy: 0.7768\n",
      "Epoch 7/10\n",
      "858/858 [==============================] - 63s 73ms/step - loss: 0.5834 - accuracy: 0.8056 - val_loss: 0.3602 - val_accuracy: 0.8659\n",
      "Epoch 8/10\n",
      "858/858 [==============================] - 60s 70ms/step - loss: 0.5162 - accuracy: 0.8278 - val_loss: 0.2888 - val_accuracy: 0.8961\n",
      "Epoch 9/10\n",
      "858/858 [==============================] - 55s 64ms/step - loss: 0.4626 - accuracy: 0.8453 - val_loss: 0.2943 - val_accuracy: 0.8924\n",
      "Epoch 10/10\n",
      "858/858 [==============================] - 58s 67ms/step - loss: 0.4207 - accuracy: 0.8593 - val_loss: 0.2504 - val_accuracy: 0.9237\n",
      "7172/7172 [==============================] - 5s 660us/sample - loss: 99.2399 - accuracy: 0.7957s - loss\n"
     ]
    },
    {
     "data": {
      "text/plain": [
       "[99.23991062570668, 0.7957334]"
      ]
     },
     "execution_count": 22,
     "metadata": {},
     "output_type": "execute_result"
    }
   ],
   "source": [
    "train_generator = training_datagen.flow(training_images, training_labels, batch_size=32)\n",
    "validation_generator = validation_datagen.flow(testing_images, testing_labels, batch_size=32)\n",
    "\n",
    "model = tf.keras.models.Sequential([\n",
    "    tf.keras.layers.Conv2D(32, (3,3), activation='relu', input_shape=(28,28,1)),\n",
    "    tf.keras.layers.MaxPooling2D(2,2),\n",
    "    tf.keras.layers.Conv2D(64, (3,3), activation='relu'),\n",
    "    tf.keras.layers.MaxPooling2D(2,2),\n",
    "    tf.keras.layers.Flatten(),\n",
    "    tf.keras.layers.Dense(512, activation='relu'),\n",
    "    tf.keras.layers.Dense(26, activation='softmax')])\n",
    "\n",
    "# Compile Model. \n",
    "model.compile(loss='sparse_categorical_crossentropy', optimizer='adam', metrics=['accuracy'])\n",
    "\n",
    "# Train the Model\n",
    "history = model.fit(train_generator,\n",
    "                    epochs=10,\n",
    "                    validation_data = validation_generator,\n",
    "                    verbose=1)\n",
    "\n",
    "model.evaluate(testing_images, testing_labels, verbose=1)"
   ]
  },
  {
   "cell_type": "code",
   "execution_count": 25,
   "metadata": {},
   "outputs": [
    {
     "data": {
      "image/png": "[encoded data removed]",
      "text/plain": [
       "<Figure size 576x432 with 1 Axes>"
      ]
     },
     "metadata": {},
     "output_type": "display_data"
    },
    {
     "data": {
      "image/png": "[encoded data removed]",
      "text/plain": [
       "<Figure size 576x432 with 1 Axes>"
      ]
     },
     "metadata": {},
     "output_type": "display_data"
    }
   ],
   "source": [
    "# Plot the chart for accuracy and loss on both training and validation\n",
    "%matplotlib inline\n",
    "import matplotlib.pyplot as plt\n",
    "plt.style.use('dark_background')\n",
    "acc = history.history['accuracy']\n",
    "val_acc = history.history['val_accuracy']\n",
    "loss = history.history['loss']\n",
    "val_loss = history.history['val_loss']\n",
    "\n",
    "epochs = range(len(acc))\n",
    "\n",
    "plt.figure(figsize=(8,6))\n",
    "\n",
    "plt.plot(epochs, acc, 'r', label='Training accuracy')\n",
    "plt.plot(epochs, val_acc, 'b', label='Validation accuracy')\n",
    "plt.title('Training and validation accuracy')\n",
    "plt.legend()\n",
    "plt.figure(figsize=(8,6))\n",
    "\n",
    "plt.plot(epochs, loss, 'r', label='Training Loss')\n",
    "plt.plot(epochs, val_loss, 'b', label='Validation Loss')\n",
    "plt.title('Training and validation loss')\n",
    "plt.legend()\n",
    "\n",
    "plt.show()"
   ]
  },
  {
   "cell_type": "code",
   "execution_count": null,
   "metadata": {},
   "outputs": [],
   "source": []
  }
 ],
 "metadata": {
  "kernelspec": {
   "display_name": "Python 3",
   "language": "python",
   "name": "python3"
  },
  "language_info": {
   "codemirror_mode": {
    "name": "ipython",
    "version": 3
   },
   "file_extension": ".py",
   "mimetype": "text/x-python",
   "name": "python",
   "nbconvert_exporter": "python",
   "pygments_lexer": "ipython3",
   "version": "3.7.6"
  }
 },
 "nbformat": 4,
 "nbformat_minor": 4
}
