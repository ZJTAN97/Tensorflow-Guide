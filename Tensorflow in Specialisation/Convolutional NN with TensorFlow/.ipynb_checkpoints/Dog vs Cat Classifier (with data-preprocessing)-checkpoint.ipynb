{
 "cells": [
  {
   "cell_type": "markdown",
   "metadata": {},
   "source": [
    "- In this exercise you will train a CNN on the FULL Cats-v-dogs dataset\n",
    "- This will require you doing a lot of data preprocessing because\n",
    "- the dataset isn't split into training and validation for you"
   ]
  },
  {
   "cell_type": "code",
   "execution_count": 16,
   "metadata": {},
   "outputs": [],
   "source": [
    "import os\n",
    "import zipfile\n",
    "import random\n",
    "import tensorflow as tf\n",
    "import shutil\n",
    "from tensorflow.keras.optimizers import RMSprop\n",
    "from tensorflow.keras.preprocessing.image import ImageDataGenerator\n",
    "from shutil import copyfile\n",
    "from os import getcwd"
   ]
  },
  {
   "cell_type": "markdown",
   "metadata": {},
   "source": [
    "## 1 - Data Preprocessing"
   ]
  },
  {
   "cell_type": "code",
   "execution_count": 17,
   "metadata": {},
   "outputs": [],
   "source": [
    "path_cats_and_dogs = f'{getcwd()}/cats-and-dogs_full.zip'\n",
    "shutil.rmtree('/tmp') # to delete directory specified; not entire path\n",
    "\n",
    "local_zip = path_cats_and_dogs\n",
    "zip_ref = zipfile.ZipFile(local_zip, 'r')\n",
    "zip_ref.extractall('/tmp')\n",
    "zip_ref.close()"
   ]
  },
  {
   "cell_type": "code",
   "execution_count": 18,
   "metadata": {},
   "outputs": [
    {
     "name": "stdout",
     "output_type": "stream",
     "text": [
      "1500\n",
      "1500\n"
     ]
    }
   ],
   "source": [
    "print(len(os.listdir('/tmp/PetImages/Cat/')))\n",
    "print(len(os.listdir('/tmp/PetImages/Dog/')))"
   ]
  },
  {
   "cell_type": "code",
   "execution_count": 19,
   "metadata": {},
   "outputs": [
    {
     "name": "stdout",
     "output_type": "stream",
     "text": [
      "/tmp/cats-v-dogs/ created successfully!\n",
      "/tmp/cats-v-dogs/training created successfully!\n",
      "/tmp/cats-v-dogs/testing created successfully!\n",
      "/tmp/cats-v-dogs/training/cats created successfully!\n",
      "/tmp/cats-v-dogs/training/dogs created successfully!\n",
      "/tmp/cats-v-dogs/testing/cats created successfully!\n",
      "/tmp/cats-v-dogs/testing/dogs created successfully!\n"
     ]
    }
   ],
   "source": [
    "directories = ['/tmp/cats-v-dogs/',\n",
    "               '/tmp/cats-v-dogs/training',\n",
    "               '/tmp/cats-v-dogs/testing', \n",
    "               '/tmp/cats-v-dogs/training/cats',\n",
    "               '/tmp/cats-v-dogs/training/dogs',\n",
    "               '/tmp/cats-v-dogs/testing/cats',\n",
    "               '/tmp/cats-v-dogs/testing/dogs']\n",
    "\n",
    "try:\n",
    "    \n",
    "    for dirs in directories:\n",
    "        os.mkdir(dirs)\n",
    "        print(dirs + ' created successfully!')\n",
    "    \n",
    "except OSError:\n",
    "    pass"
   ]
  },
  {
   "cell_type": "code",
   "execution_count": 20,
   "metadata": {},
   "outputs": [],
   "source": [
    "def split_data(source, training, testing, split_size):\n",
    "    \n",
    "    all_files = []\n",
    "    for file_name in os.listdir(source):\n",
    "        file_path = source + file_name\n",
    "        \n",
    "        # to make sure images is not zero file length\n",
    "        if os.path.getsize(file_path)>0:\n",
    "            all_files.append(file_name)\n",
    "            \n",
    "        else: \n",
    "            print('{} is zero length'.format(file_name))\n",
    "            \n",
    "    \n",
    "    n_files = len(all_files)\n",
    "    split_point = int(n_files * split_size)\n",
    "    \n",
    "    shuffled = random.sample(all_files, n_files)\n",
    "    \n",
    "    train_set = shuffled[:split_point]\n",
    "    test_set = shuffled[split_point:]\n",
    "    \n",
    "    for file_name in train_set:\n",
    "        copyfile(source + file_name, training + file_name)\n",
    "    \n",
    "    for file_name in test_set:\n",
    "        copyfile(source + file_name, testing + file_name)"
   ]
  },
  {
   "cell_type": "code",
   "execution_count": 21,
   "metadata": {},
   "outputs": [
    {
     "name": "stdout",
     "output_type": "stream",
     "text": [
      "1350\n",
      "1350\n",
      "150\n",
      "150\n"
     ]
    }
   ],
   "source": [
    "cat_source_dir = \"/tmp/PetImages/Cat/\"\n",
    "train_cats_dir = \"/tmp/cats-v-dogs/training/cats/\"\n",
    "test_cats_dir = \"/tmp/cats-v-dogs/testing/cats/\"\n",
    "dog_source_dir = \"/tmp/PetImages/Dog/\"\n",
    "train_dogs_dir = \"/tmp/cats-v-dogs/training/dogs/\"\n",
    "test_dogs_dir = \"/tmp/cats-v-dogs/testing/dogs/\"\n",
    "\n",
    "split_size = .9\n",
    "split_data(cat_source_dir, train_cats_dir, test_cats_dir, split_size)\n",
    "split_data(dog_source_dir, train_dogs_dir, test_dogs_dir, split_size)\n",
    "\n",
    "print(len(os.listdir('/tmp/cats-v-dogs/training/cats/')))\n",
    "print(len(os.listdir('/tmp/cats-v-dogs/training/dogs/')))\n",
    "print(len(os.listdir('/tmp/cats-v-dogs/testing/cats/')))\n",
    "print(len(os.listdir('/tmp/cats-v-dogs/testing/dogs/')))"
   ]
  },
  {
   "cell_type": "markdown",
   "metadata": {},
   "source": [
    "## 2 - Model Building and Training"
   ]
  },
  {
   "cell_type": "code",
   "execution_count": 22,
   "metadata": {},
   "outputs": [],
   "source": [
    "model = tf.keras.models.Sequential([\n",
    "    tf.keras.layers.Conv2D(16, (3,3), activation='relu', input_shape=(150,150,3)),\n",
    "    tf.keras.layers.MaxPooling2D(2,2),\n",
    "    tf.keras.layers.Conv2D(32, (3,3), activation='relu'),\n",
    "    tf.keras.layers.MaxPooling2D(2,2),\n",
    "    tf.keras.layers.Conv2D(32, (3,3), activation='relu'),\n",
    "    tf.keras.layers.MaxPooling2D(2,2),\n",
    "    tf.keras.layers.Flatten(),\n",
    "    tf.keras.layers.Dense(1024, activation = 'relu'),\n",
    "    tf.keras.layers.Dense(512, activation = 'relu'),\n",
    "    tf.keras.layers.Dense(1, activation='sigmoid')  \n",
    "])\n",
    "\n",
    "# Compile\n",
    "model.compile(optimizer='adam', loss='binary_crossentropy', metrics=['accuracy'])"
   ]
  },
  {
   "cell_type": "code",
   "execution_count": 24,
   "metadata": {},
   "outputs": [
    {
     "name": "stdout",
     "output_type": "stream",
     "text": [
      "Found 2700 images belonging to 2 classes.\n",
      "Found 300 images belonging to 2 classes.\n"
     ]
    }
   ],
   "source": [
    "train_dir = '/tmp/cats-v-dogs/training'\n",
    "train_datagen = ImageDataGenerator(rescale=1/255)\n",
    "train_generator = train_datagen.flow_from_directory(train_dir,\n",
    "                                                    batch_size=10,\n",
    "                                                    class_mode='binary',\n",
    "                                                    target_size=(150,150))\n",
    "\n",
    "validation_dir = '/tmp/cats-v-dogs/testing'\n",
    "validation_datagen = ImageDataGenerator(rescale=1/255)\n",
    "validation_generator = validation_datagen.flow_from_directory(validation_dir,\n",
    "                                                              batch_size=10,\n",
    "                                                              class_mode='binary',\n",
    "                                                              target_size=(150,150))"
   ]
  },
  {
   "cell_type": "code",
   "execution_count": 25,
   "metadata": {},
   "outputs": [
    {
     "name": "stdout",
     "output_type": "stream",
     "text": [
      "WARNING:tensorflow:From <ipython-input-25-e96c8ad2c0df>:4: Model.fit_generator (from tensorflow.python.keras.engine.training) is deprecated and will be removed in a future version.\n",
      "Instructions for updating:\n",
      "Please use Model.fit, which supports generators.\n",
      "WARNING:tensorflow:sample_weight modes were coerced from\n",
      "  ...\n",
      "    to  \n",
      "  ['...']\n",
      "WARNING:tensorflow:sample_weight modes were coerced from\n",
      "  ...\n",
      "    to  \n",
      "  ['...']\n",
      "Train for 270 steps, validate for 30 steps\n",
      "Epoch 1/3\n",
      "270/270 [==============================] - 65s 241ms/step - loss: 0.6955 - accuracy: 0.5359 - val_loss: 0.6817 - val_accuracy: 0.5433\n",
      "Epoch 2/3\n",
      "270/270 [==============================] - 63s 232ms/step - loss: 0.6780 - accuracy: 0.6026 - val_loss: 0.6512 - val_accuracy: 0.6500\n",
      "Epoch 3/3\n",
      "270/270 [==============================] - 63s 234ms/step - loss: 0.6353 - accuracy: 0.6537 - val_loss: 0.6358 - val_accuracy: 0.6567\n"
     ]
    }
   ],
   "source": [
    "history = model.fit_generator(train_generator,\n",
    "                              epochs=3,\n",
    "                              verbose=1,\n",
    "                              validation_data=validation_generator)"
   ]
  },
  {
   "cell_type": "markdown",
   "metadata": {},
   "source": [
    "## 3 - Visualising Loss & Accuracy"
   ]
  },
  {
   "cell_type": "code",
   "execution_count": 32,
   "metadata": {},
   "outputs": [
    {
     "data": {
      "text/plain": [
       "Text(0.5, 1.0, 'Training and validation loss')"
      ]
     },
     "execution_count": 32,
     "metadata": {},
     "output_type": "execute_result"
    },
    {
     "data": {
      "image/png": "[encoded data removed]",
      "text/plain": [
       "<Figure size 432x288 with 1 Axes>"
      ]
     },
     "metadata": {},
     "output_type": "display_data"
    },
    {
     "data": {
      "image/png": "[encoded data removed]",
      "text/plain": [
       "<Figure size 432x288 with 1 Axes>"
      ]
     },
     "metadata": {},
     "output_type": "display_data"
    }
   ],
   "source": [
    "# PLOT LOSS AND ACCURACY\n",
    "%matplotlib inline\n",
    "\n",
    "import matplotlib.image  as mpimg\n",
    "import matplotlib.pyplot as plt\n",
    "plt.style.use('dark_background')\n",
    "\n",
    "#-----------------------------------------------------------\n",
    "# Retrieve a list of list results on training and test data\n",
    "# sets for each training epoch\n",
    "#-----------------------------------------------------------\n",
    "acc=history.history['accuracy']\n",
    "val_acc=history.history['val_accuracy']\n",
    "loss=history.history['loss']\n",
    "val_loss=history.history['val_loss']\n",
    "\n",
    "epochs=range(len(acc)) # Get number of epochs\n",
    "\n",
    "#------------------------------------------------\n",
    "# Plot training and validation accuracy per epoch\n",
    "#------------------------------------------------\n",
    "plt.figure()\n",
    "plt.plot(epochs, acc, 'r', \"Training Accuracy\", label = 'Train Acc')\n",
    "plt.plot(epochs, val_acc, 'b', \"Validation Accuracy\", label = 'Val Acc')\n",
    "plt.title('Training and validation accuracy')\n",
    "\n",
    "\n",
    "#------------------------------------------------\n",
    "# Plot training and validation loss per epoch\n",
    "#------------------------------------------------\n",
    "plt.figure()\n",
    "plt.plot(epochs, loss, 'r', \"Training Loss\", label = 'Train Loss')\n",
    "plt.plot(epochs, val_loss, 'b', \"Validation Loss\", label = 'Val Loss')\n",
    "plt.title('Training and validation loss')"
   ]
  },
  {
   "cell_type": "code",
   "execution_count": null,
   "metadata": {},
   "outputs": [],
   "source": []
  }
 ],
 "metadata": {
  "kernelspec": {
   "display_name": "Python 3",
   "language": "python",
   "name": "python3"
  },
  "language_info": {
   "codemirror_mode": {
    "name": "ipython",
    "version": 3
   },
   "file_extension": ".py",
   "mimetype": "text/x-python",
   "name": "python",
   "nbconvert_exporter": "python",
   "pygments_lexer": "ipython3",
   "version": "3.7.6"
  }
 },
 "nbformat": 4,
 "nbformat_minor": 4
}
