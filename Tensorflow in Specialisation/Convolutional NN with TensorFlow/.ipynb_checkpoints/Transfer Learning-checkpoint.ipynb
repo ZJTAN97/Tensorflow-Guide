{
 "cells": [
  {
   "cell_type": "code",
   "execution_count": 7,
   "metadata": {},
   "outputs": [
    {
     "name": "stdout",
     "output_type": "stream",
     "text": [
      "last layer output shape:  (None, 7, 7, 768)\n"
     ]
    }
   ],
   "source": [
    "import os \n",
    "from tensorflow.keras import layers\n",
    "from tensorflow.keras import Model\n",
    "from tensorflow.keras.applications.inception_v3 import InceptionV3\n",
    "\n",
    "local_weights_file = 'inception_v3_weights_tf_dim_ordering_tf_kernels_notop.h5'\n",
    "\n",
    "pre_trained_model = InceptionV3(input_shape=(150,150,3),\n",
    "                                include_top=False,\n",
    "                                weights=None)\n",
    "\n",
    "pre_trained_model.load_weights(local_weights_file)\n",
    "\n",
    "for layer in pre_trained_model.layers:\n",
    "    layers.trainable = False\n",
    "\n",
    "#pre_trained_model.summary()\n",
    "\n",
    "last_layer = pre_trained_model.get_layer('mixed7')\n",
    "print('last layer output shape: ', last_layer.output_shape)\n",
    "last_output = last_layer.output"
   ]
  },
  {
   "cell_type": "code",
   "execution_count": 8,
   "metadata": {},
   "outputs": [],
   "source": [
    "from tensorflow.keras.optimizers import RMSprop\n",
    "\n",
    "# Flatten the output layer to 1 dimension\n",
    "x = layers.Flatten()(last_output)\n",
    "# Add a fully connected layer with 1,024 hidden units and ReLU activation\n",
    "x = layers.Dense(1024, activation='relu')(x)\n",
    "# Add a dropout rate of 0.2\n",
    "x = layers.Dropout(0.2)(x)                  \n",
    "# Add a final sigmoid layer for classification\n",
    "x = layers.Dense  (1, activation='sigmoid')(x)           \n",
    "\n",
    "model = Model( pre_trained_model.input, x) \n",
    "\n",
    "model.compile(optimizer = RMSprop(lr=0.0001), \n",
    "              loss = 'binary_crossentropy', \n",
    "              metrics = ['accuracy'])"
   ]
  },
  {
   "cell_type": "code",
   "execution_count": 12,
   "metadata": {},
   "outputs": [
    {
     "name": "stdout",
     "output_type": "stream",
     "text": [
      "Found 2000 images belonging to 2 classes.\n",
      "Found 1000 images belonging to 2 classes.\n"
     ]
    }
   ],
   "source": [
    "from tensorflow.keras.preprocessing.image import ImageDataGenerator\n",
    "\n",
    "import os\n",
    "import zipfile\n",
    "\n",
    "local_zip = 'cats_and_dogs_filtered.zip'\n",
    "\n",
    "zip_ref = zipfile.ZipFile(local_zip, 'r')\n",
    "\n",
    "zip_ref.extractall('/tmp')\n",
    "zip_ref.close()\n",
    "\n",
    "# Define our example directories and files\n",
    "base_dir = '/tmp/cats_and_dogs_filtered'\n",
    "\n",
    "train_dir = os.path.join( base_dir, 'train')\n",
    "validation_dir = os.path.join( base_dir, 'validation')\n",
    "\n",
    "\n",
    "train_cats_dir = os.path.join(train_dir, 'cats') # Directory with our training cat pictures\n",
    "train_dogs_dir = os.path.join(train_dir, 'dogs') # Directory with our training dog pictures\n",
    "validation_cats_dir = os.path.join(validation_dir, 'cats') # Directory with our validation cat pictures\n",
    "validation_dogs_dir = os.path.join(validation_dir, 'dogs')# Directory with our validation dog pictures\n",
    "\n",
    "train_cat_fnames = os.listdir(train_cats_dir)\n",
    "train_dog_fnames = os.listdir(train_dogs_dir)\n",
    "\n",
    "# Add our data-augmentation parameters to ImageDataGenerator\n",
    "train_datagen = ImageDataGenerator(rescale = 1./255.,\n",
    "                                   rotation_range = 40,\n",
    "                                   width_shift_range = 0.2,\n",
    "                                   height_shift_range = 0.2,\n",
    "                                   shear_range = 0.2,\n",
    "                                   zoom_range = 0.2,\n",
    "                                   horizontal_flip = True)\n",
    "\n",
    "# Note that the validation data should not be augmented!\n",
    "test_datagen = ImageDataGenerator( rescale = 1.0/255. )\n",
    "\n",
    "# Flow training images in batches of 20 using train_datagen generator\n",
    "train_generator = train_datagen.flow_from_directory(train_dir,\n",
    "                                                    batch_size = 20,\n",
    "                                                    class_mode = 'binary', \n",
    "                                                    target_size = (150, 150))     \n",
    "\n",
    "# Flow validation images in batches of 20 using test_datagen generator\n",
    "validation_generator =  test_datagen.flow_from_directory( validation_dir,\n",
    "                                                          batch_size  = 20,\n",
    "                                                          class_mode  = 'binary', \n",
    "                                                          target_size = (150, 150))"
   ]
  },
  {
   "cell_type": "code",
   "execution_count": 13,
   "metadata": {},
   "outputs": [
    {
     "name": "stdout",
     "output_type": "stream",
     "text": [
      "WARNING:tensorflow:sample_weight modes were coerced from\n",
      "  ...\n",
      "    to  \n",
      "  ['...']\n",
      "WARNING:tensorflow:sample_weight modes were coerced from\n",
      "  ...\n",
      "    to  \n",
      "  ['...']\n",
      "Train for 100 steps, validate for 50 steps\n",
      "Epoch 1/20\n",
      "100/100 - 227s - loss: 0.4032 - accuracy: 0.8205 - val_loss: 0.4115 - val_accuracy: 0.9080\n",
      "Epoch 2/20\n",
      "100/100 - 240s - loss: 0.2028 - accuracy: 0.9165 - val_loss: 0.4921 - val_accuracy: 0.9270\n",
      "Epoch 3/20\n",
      "100/100 - 239s - loss: 0.1821 - accuracy: 0.9340 - val_loss: 0.2689 - val_accuracy: 0.9640\n",
      "Epoch 4/20\n",
      "100/100 - 243s - loss: 0.1343 - accuracy: 0.9550 - val_loss: 0.3212 - val_accuracy: 0.9620\n",
      "Epoch 5/20\n",
      "100/100 - 241s - loss: 0.1365 - accuracy: 0.9530 - val_loss: 0.2937 - val_accuracy: 0.9580\n",
      "Epoch 6/20\n",
      "100/100 - 240s - loss: 0.0999 - accuracy: 0.9655 - val_loss: 0.3528 - val_accuracy: 0.9560\n",
      "Epoch 7/20\n",
      "100/100 - 258s - loss: 0.1060 - accuracy: 0.9665 - val_loss: 0.6146 - val_accuracy: 0.9500\n",
      "Epoch 8/20\n",
      "100/100 - 324s - loss: 0.0715 - accuracy: 0.9750 - val_loss: 0.6287 - val_accuracy: 0.9560\n",
      "Epoch 9/20\n",
      "100/100 - 336s - loss: 0.0822 - accuracy: 0.9760 - val_loss: 0.7439 - val_accuracy: 0.9550\n",
      "Epoch 10/20\n",
      "100/100 - 257s - loss: 0.0779 - accuracy: 0.9800 - val_loss: 0.9504 - val_accuracy: 0.9480\n",
      "Epoch 11/20\n",
      "100/100 - 226s - loss: 0.0646 - accuracy: 0.9780 - val_loss: 0.9377 - val_accuracy: 0.9410\n",
      "Epoch 12/20\n",
      "100/100 - 222s - loss: 0.0647 - accuracy: 0.9835 - val_loss: 0.7657 - val_accuracy: 0.9600\n",
      "Epoch 13/20\n",
      "100/100 - 221s - loss: 0.0780 - accuracy: 0.9815 - val_loss: 0.4893 - val_accuracy: 0.9590\n",
      "Epoch 14/20\n",
      "100/100 - 222s - loss: 0.0537 - accuracy: 0.9845 - val_loss: 1.5173 - val_accuracy: 0.9600\n",
      "Epoch 15/20\n",
      "100/100 - 223s - loss: 0.0614 - accuracy: 0.9845 - val_loss: 0.8789 - val_accuracy: 0.9540\n",
      "Epoch 16/20\n",
      "100/100 - 230s - loss: 0.0521 - accuracy: 0.9835 - val_loss: 1.5203 - val_accuracy: 0.9260\n",
      "Epoch 17/20\n",
      "100/100 - 239s - loss: 0.0652 - accuracy: 0.9805 - val_loss: 0.9571 - val_accuracy: 0.9500\n",
      "Epoch 18/20\n",
      "100/100 - 236s - loss: 0.0363 - accuracy: 0.9895 - val_loss: 0.4513 - val_accuracy: 0.9550\n",
      "Epoch 19/20\n",
      "100/100 - 230s - loss: 0.0552 - accuracy: 0.9885 - val_loss: 0.3831 - val_accuracy: 0.9590\n",
      "Epoch 20/20\n",
      "100/100 - 232s - loss: 0.0704 - accuracy: 0.9870 - val_loss: 1.8450 - val_accuracy: 0.9260\n"
     ]
    }
   ],
   "source": [
    "history = model.fit(\n",
    "            train_generator,\n",
    "            validation_data = validation_generator,\n",
    "            steps_per_epoch = 100,\n",
    "            epochs = 20,\n",
    "            validation_steps = 50,\n",
    "            verbose = 2)"
   ]
  },
  {
   "cell_type": "code",
   "execution_count": 18,
   "metadata": {},
   "outputs": [
    {
     "data": {
      "image/png": "[encoded data removed]",
      "text/plain": [
       "<Figure size 576x504 with 1 Axes>"
      ]
     },
     "metadata": {},
     "output_type": "display_data"
    },
    {
     "data": {
      "text/plain": [
       "<Figure size 432x288 with 0 Axes>"
      ]
     },
     "metadata": {},
     "output_type": "display_data"
    }
   ],
   "source": [
    "import matplotlib.pyplot as plt\n",
    "plt.style.use('dark_background')\n",
    "acc = history.history['accuracy']\n",
    "val_acc = history.history['val_accuracy']\n",
    "loss = history.history['loss']\n",
    "val_loss = history.history['val_loss']\n",
    "\n",
    "epochs = range(len(acc))\n",
    "\n",
    "plt.figure(figsize=(8,7))\n",
    "plt.plot(epochs, acc, 'r', label='Training accuracy')\n",
    "plt.plot(epochs, val_acc, 'b', label='Validation accuracy')\n",
    "plt.title('Training and validation accuracy')\n",
    "plt.legend(loc=0)\n",
    "plt.figure()\n",
    "\n",
    "plt.show()"
   ]
  },
  {
   "cell_type": "code",
   "execution_count": null,
   "metadata": {},
   "outputs": [],
   "source": []
  }
 ],
 "metadata": {
  "kernelspec": {
   "display_name": "Python 3",
   "language": "python",
   "name": "python3"
  },
  "language_info": {
   "codemirror_mode": {
    "name": "ipython",
    "version": 3
   },
   "file_extension": ".py",
   "mimetype": "text/x-python",
   "name": "python",
   "nbconvert_exporter": "python",
   "pygments_lexer": "ipython3",
   "version": "3.7.6"
  }
 },
 "nbformat": 4,
 "nbformat_minor": 4
}
