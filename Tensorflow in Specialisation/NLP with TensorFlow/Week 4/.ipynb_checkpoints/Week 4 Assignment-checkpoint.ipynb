{
 "cells": [
  {
   "cell_type": "code",
   "execution_count": 8,
   "metadata": {},
   "outputs": [],
   "source": [
    "from tensorflow.keras.preprocessing.sequence import pad_sequences\n",
    "from tensorflow.keras.layers import Embedding, LSTM, Dense, Dropout, Bidirectional\n",
    "from tensorflow.keras.preprocessing.text import Tokenizer\n",
    "from tensorflow.keras.models import Sequential\n",
    "from tensorflow.keras.optimizers import Adam\n",
    "from tensorflow.keras import regularizers\n",
    "import tensorflow.keras.utils as ku \n",
    "import numpy as np "
   ]
  },
  {
   "cell_type": "code",
   "execution_count": 9,
   "metadata": {},
   "outputs": [],
   "source": [
    "tokenizer = Tokenizer()\n",
    "\n",
    "data = open('sonnets.txt').read()\n",
    "\n",
    "corpus = data.lower().split('\\n')\n",
    "\n",
    "tokenizer.fit_on_texts(corpus)\n",
    "total_words = len(tokenizer.word_index) + 1\n",
    "\n",
    "# create input sequences using list of tokens\n",
    "input_sequences = []\n",
    "for line in corpus:\n",
    "    token_list = tokenizer.texts_to_sequences([line])[0]\n",
    "    for i in range(1, len(token_list)):\n",
    "        n_gram_sequence = token_list[:i+1]\n",
    "        input_sequences.append(n_gram_sequence)"
   ]
  },
  {
   "cell_type": "code",
   "execution_count": 10,
   "metadata": {},
   "outputs": [
    {
     "data": {
      "text/plain": [
       "[[34, 417],\n",
       " [34, 417, 877],\n",
       " [34, 417, 877, 166],\n",
       " [34, 417, 877, 166, 213],\n",
       " [34, 417, 877, 166, 213, 517]]"
      ]
     },
     "execution_count": 10,
     "metadata": {},
     "output_type": "execute_result"
    }
   ],
   "source": [
    "input_sequences[0:5]"
   ]
  },
  {
   "cell_type": "code",
   "execution_count": 11,
   "metadata": {},
   "outputs": [],
   "source": [
    "# pad sequences\n",
    "max_sequence_len = max([len(x) for x in input_sequences]) # find out length of longest sentence\n",
    "input_sequences = np.array(pad_sequences(input_sequences, maxlen = max_sequence_len, padding='pre'))\n",
    "\n",
    "# create predictors and label\n",
    "predictors, label = input_sequences[:,:-1], input_sequences[:,-1]\n",
    "\n",
    "label = ku.to_categorical(label, num_classes = total_words)"
   ]
  },
  {
   "cell_type": "code",
   "execution_count": 16,
   "metadata": {},
   "outputs": [
    {
     "name": "stdout",
     "output_type": "stream",
     "text": [
      "Model: \"sequential\"\n",
      "_________________________________________________________________\n",
      "Layer (type)                 Output Shape              Param #   \n",
      "=================================================================\n",
      "embedding (Embedding)        (None, 10, 100)           321100    \n",
      "_________________________________________________________________\n",
      "bidirectional (Bidirectional (None, 10, 300)           301200    \n",
      "_________________________________________________________________\n",
      "dropout (Dropout)            (None, 10, 300)           0         \n",
      "_________________________________________________________________\n",
      "bidirectional_1 (Bidirection (None, 200)               320800    \n",
      "_________________________________________________________________\n",
      "dense (Dense)                (None, 1605)              322605    \n",
      "_________________________________________________________________\n",
      "dense_1 (Dense)              (None, 3211)              5156866   \n",
      "=================================================================\n",
      "Total params: 6,422,571\n",
      "Trainable params: 6,422,571\n",
      "Non-trainable params: 0\n",
      "_________________________________________________________________\n",
      "None\n"
     ]
    }
   ],
   "source": [
    "model = Sequential()\n",
    "model.add(Embedding(total_words, 100, input_length=max_sequence_len-1))\n",
    "model.add(Bidirectional(LSTM(150, return_sequences=True)))\n",
    "model.add(Dropout(0.2))\n",
    "model.add(Bidirectional(LSTM(100)))\n",
    "model.add(Dense(total_words/2, kernel_regularizer = regularizers.l2(0.01)))\n",
    "model.add(Dense(total_words, activation='softmax'))\n",
    "# Pick an optimizer\n",
    "model.compile(loss='categorical_crossentropy', optimizer='adam', metrics=['accuracy'])\n",
    "print(model.summary())"
   ]
  },
  {
   "cell_type": "code",
   "execution_count": 17,
   "metadata": {},
   "outputs": [
    {
     "name": "stdout",
     "output_type": "stream",
     "text": [
      "Train on 15462 samples\n",
      "Epoch 1/50\n",
      "15462/15462 [==============================] - 117s 8ms/sample - loss: 7.0441 - accuracy: 0.0213\n",
      "Epoch 2/50\n",
      "15462/15462 [==============================] - 74s 5ms/sample - loss: 6.4968 - accuracy: 0.0294\n",
      "Epoch 3/50\n",
      "15462/15462 [==============================] - 69s 4ms/sample - loss: 6.3557 - accuracy: 0.0322\n",
      "Epoch 4/50\n",
      "15462/15462 [==============================] - 69s 4ms/sample - loss: 6.2256 - accuracy: 0.0378\n",
      "Epoch 5/50\n",
      "15462/15462 [==============================] - 77s 5ms/sample - loss: 6.0758 - accuracy: 0.0439\n",
      "Epoch 6/50\n",
      "15462/15462 [==============================] - 77s 5ms/sample - loss: 5.9156 - accuracy: 0.0523\n",
      "Epoch 7/50\n",
      "15462/15462 [==============================] - 74s 5ms/sample - loss: 5.7460 - accuracy: 0.0620\n",
      "Epoch 8/50\n",
      "15462/15462 [==============================] - 72s 5ms/sample - loss: 5.6089 - accuracy: 0.0684s - loss: 5.6052 - accuracy\n",
      "Epoch 9/50\n",
      "15462/15462 [==============================] - 76s 5ms/sample - loss: 5.4488 - accuracy: 0.0783\n",
      "Epoch 10/50\n",
      "15462/15462 [==============================] - 80s 5ms/sample - loss: 5.3014 - accuracy: 0.0818A: 1s - loss: 5\n",
      "Epoch 11/50\n",
      "15462/15462 [==============================] - 80s 5ms/sample - loss: 5.1442 - accuracy: 0.0914\n",
      "Epoch 12/50\n",
      "15462/15462 [==============================] - 72s 5ms/sample - loss: 4.9873 - accuracy: 0.1057\n",
      "Epoch 13/50\n",
      "15462/15462 [==============================] - 81s 5ms/sample - loss: 4.8317 - accuracy: 0.1160 20s - loss: 4.7723 - accuracy: 0.11\n",
      "Epoch 14/50\n",
      "15462/15462 [==============================] - 80s 5ms/sample - loss: 4.6718 - accuracy: 0.1307\n",
      "Epoch 15/50\n",
      "15462/15462 [==============================] - 77s 5ms/sample - loss: 4.5256 - accuracy: 0.1447\n",
      "Epoch 16/50\n",
      "15462/15462 [==============================] - 78s 5ms/sample - loss: 4.3625 - accuracy: 0.1650\n",
      "Epoch 17/50\n",
      "15462/15462 [==============================] - 80s 5ms/sample - loss: 4.2126 - accuracy: 0.1781s - loss: 4.2104 - accuracy\n",
      "Epoch 18/50\n",
      "15462/15462 [==============================] - 75s 5ms/sample - loss: 4.0522 - accuracy: 0.1982\n",
      "Epoch 19/50\n",
      "15462/15462 [==============================] - 41s 3ms/sample - loss: 3.8936 - accuracy: 0.2266\n",
      "Epoch 20/50\n",
      "15462/15462 [==============================] - 41s 3ms/sample - loss: 3.7322 - accuracy: 0.2542\n",
      "Epoch 21/50\n",
      "15462/15462 [==============================] - 39s 3ms/sample - loss: 3.5732 - accuracy: 0.2833\n",
      "Epoch 22/50\n",
      "15462/15462 [==============================] - 44s 3ms/sample - loss: 3.4183 - accuracy: 0.3148\n",
      "Epoch 23/50\n",
      "15462/15462 [==============================] - 50s 3ms/sample - loss: 3.2790 - accuracy: 0.3454\n",
      "Epoch 24/50\n",
      "15462/15462 [==============================] - 50s 3ms/sample - loss: 3.1416 - accuracy: 0.3822\n",
      "Epoch 25/50\n",
      "15462/15462 [==============================] - 49s 3ms/sample - loss: 2.9948 - accuracy: 0.4083\n",
      "Epoch 26/50\n",
      "15462/15462 [==============================] - 51s 3ms/sample - loss: 2.8755 - accuracy: 0.4353\n",
      "Epoch 27/50\n",
      "15462/15462 [==============================] - 53s 3ms/sample - loss: 2.7627 - accuracy: 0.4641\n",
      "Epoch 28/50\n",
      "15462/15462 [==============================] - 50s 3ms/sample - loss: 2.6421 - accuracy: 0.4885\n",
      "Epoch 29/50\n",
      "15462/15462 [==============================] - 54s 4ms/sample - loss: 2.5463 - accuracy: 0.5088\n",
      "Epoch 30/50\n",
      "15462/15462 [==============================] - 50s 3ms/sample - loss: 2.4543 - accuracy: 0.5325\n",
      "Epoch 31/50\n",
      "15462/15462 [==============================] - 48s 3ms/sample - loss: 2.3722 - accuracy: 0.5482\n",
      "Epoch 32/50\n",
      "15462/15462 [==============================] - 48s 3ms/sample - loss: 2.2687 - accuracy: 0.5682\n",
      "Epoch 33/50\n",
      "15462/15462 [==============================] - 49s 3ms/sample - loss: 2.1953 - accuracy: 0.5860\n",
      "Epoch 34/50\n",
      "15462/15462 [==============================] - 49s 3ms/sample - loss: 2.1128 - accuracy: 0.6062\n",
      "Epoch 35/50\n",
      "15462/15462 [==============================] - 48s 3ms/sample - loss: 2.0505 - accuracy: 0.6185\n",
      "Epoch 36/50\n",
      "15462/15462 [==============================] - 49s 3ms/sample - loss: 1.9821 - accuracy: 0.6308\n",
      "Epoch 37/50\n",
      "15462/15462 [==============================] - 49s 3ms/sample - loss: 1.9247 - accuracy: 0.6467\n",
      "Epoch 38/50\n",
      "15462/15462 [==============================] - 48s 3ms/sample - loss: 1.8717 - accuracy: 0.6574\n",
      "Epoch 39/50\n",
      "15462/15462 [==============================] - 49s 3ms/sample - loss: 1.8071 - accuracy: 0.6700\n",
      "Epoch 40/50\n",
      "15462/15462 [==============================] - 47s 3ms/sample - loss: 1.7628 - accuracy: 0.6845\n",
      "Epoch 41/50\n",
      "15462/15462 [==============================] - 49s 3ms/sample - loss: 1.7311 - accuracy: 0.6850s - loss: 1.7312 - \n",
      "Epoch 42/50\n",
      "15462/15462 [==============================] - 49s 3ms/sample - loss: 1.6868 - accuracy: 0.6973\n",
      "Epoch 43/50\n",
      "15462/15462 [==============================] - 49s 3ms/sample - loss: 1.6495 - accuracy: 0.7058\n",
      "Epoch 44/50\n",
      "15462/15462 [==============================] - 50s 3ms/sample - loss: 1.6291 - accuracy: 0.7081\n",
      "Epoch 45/50\n",
      "15462/15462 [==============================] - 49s 3ms/sample - loss: 1.5704 - accuracy: 0.7205\n",
      "Epoch 46/50\n",
      "15462/15462 [==============================] - 49s 3ms/sample - loss: 1.5274 - accuracy: 0.7295\n",
      "Epoch 47/50\n",
      "15462/15462 [==============================] - 49s 3ms/sample - loss: 1.4899 - accuracy: 0.7402\n",
      "Epoch 48/50\n",
      "15462/15462 [==============================] - 49s 3ms/sample - loss: 1.4942 - accuracy: 0.7352\n",
      "Epoch 49/50\n",
      "15462/15462 [==============================] - 50s 3ms/sample - loss: 1.4431 - accuracy: 0.7495\n",
      "Epoch 50/50\n",
      "15462/15462 [==============================] - 50s 3ms/sample - loss: 1.4381 - accuracy: 0.7462\n"
     ]
    }
   ],
   "source": [
    " history = model.fit(predictors, label, epochs=50, verbose=1)"
   ]
  },
  {
   "cell_type": "code",
   "execution_count": 20,
   "metadata": {},
   "outputs": [
    {
     "data": {
      "image/png": "[encoded data removed]",
      "text/plain": [
       "<Figure size 432x288 with 1 Axes>"
      ]
     },
     "metadata": {},
     "output_type": "display_data"
    },
    {
     "data": {
      "image/png": "[encoded data removed]",
      "text/plain": [
       "<Figure size 432x288 with 1 Axes>"
      ]
     },
     "metadata": {},
     "output_type": "display_data"
    }
   ],
   "source": [
    "import matplotlib.pyplot as plt\n",
    "plt.style.use('dark_background')\n",
    "\n",
    "acc = history.history['accuracy']\n",
    "loss = history.history['loss']\n",
    "\n",
    "epochs = range(len(acc))\n",
    "\n",
    "plt.plot(epochs, acc, 'r', label='Training accuracy')\n",
    "plt.title('Training accuracy')\n",
    "\n",
    "plt.figure()\n",
    "\n",
    "plt.plot(epochs, loss, 'r', label='Training Loss')\n",
    "plt.title('Training loss')\n",
    "plt.legend()\n",
    "\n",
    "plt.show()"
   ]
  },
  {
   "cell_type": "code",
   "execution_count": 19,
   "metadata": {},
   "outputs": [
    {
     "name": "stdout",
     "output_type": "stream",
     "text": [
      "Help me Obi Wan Kenobi, you're my only hope of this wherewith do lie again to give decay remember thee remain remain bosom's writ took up win pleasure doth use thee go doth go in ill half lost you did bitter chary take me say thee so due so thine is thee alone alone away assured first done not so do not to thee old sky part some near slain slain done say when it ' thee remain as begin begin gone by his state her pain be twain assured mine true appetite doth give hide assured thine own 'will ' bail shall come with score away away assured\n"
     ]
    }
   ],
   "source": [
    "seed_text = \"Help me Obi Wan Kenobi, you're my only hope\"\n",
    "next_words = 100\n",
    "  \n",
    "for _ in range(next_words):\n",
    "    token_list = tokenizer.texts_to_sequences([seed_text])[0]\n",
    "    token_list = pad_sequences([token_list], maxlen=max_sequence_len-1, padding='pre')\n",
    "    predicted = model.predict_classes(token_list, verbose=0)\n",
    "    output_word = \"\"\n",
    "    for word, index in tokenizer.word_index.items():\n",
    "        if index == predicted:\n",
    "            output_word = word\n",
    "            break\n",
    "    seed_text += \" \" + output_word\n",
    "print(seed_text)"
   ]
  }
 ],
 "metadata": {
  "kernelspec": {
   "display_name": "Python 3",
   "language": "python",
   "name": "python3"
  },
  "language_info": {
   "codemirror_mode": {
    "name": "ipython",
    "version": 3
   },
   "file_extension": ".py",
   "mimetype": "text/x-python",
   "name": "python",
   "nbconvert_exporter": "python",
   "pygments_lexer": "ipython3",
   "version": "3.7.6"
  }
 },
 "nbformat": 4,
 "nbformat_minor": 4
}
