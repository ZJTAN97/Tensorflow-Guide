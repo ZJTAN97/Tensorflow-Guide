{
 "cells": [
  {
   "cell_type": "code",
   "execution_count": 1,
   "metadata": {},
   "outputs": [],
   "source": [
    "import csv\n",
    "import tensorflow as tf\n",
    "import numpy as np\n",
    "from tensorflow.keras.preprocessing.text import Tokenizer\n",
    "from tensorflow.keras.preprocessing.sequence import pad_sequences"
   ]
  },
  {
   "cell_type": "code",
   "execution_count": 2,
   "metadata": {},
   "outputs": [],
   "source": [
    "vocab_size = 10000\n",
    "embedding_dim = 16\n",
    "max_length = 120\n",
    "trunc_type = 'post'\n",
    "padding_type = 'post'\n",
    "oov_tok = '<OOV>'\n",
    "training_portion = .8"
   ]
  },
  {
   "cell_type": "code",
   "execution_count": 3,
   "metadata": {},
   "outputs": [
    {
     "name": "stdout",
     "output_type": "stream",
     "text": [
      "153\n"
     ]
    }
   ],
   "source": [
    "sentences = []\n",
    "labels = []\n",
    "stopwords = [ \"a\", \"about\", \"above\", \"after\", \"again\", \"against\", \"all\", \"am\", \"an\", \n",
    "             \"and\", \"any\", \"are\", \"as\", \"at\", \"be\", \"because\", \"been\", \"before\", \n",
    "             \"being\", \"below\", \"between\", \"both\", \"but\", \"by\", \"could\", \"did\", \"do\", \n",
    "             \"does\", \"doing\", \"down\", \"during\", \"each\", \"few\", \"for\", \"from\", \"further\", \n",
    "             \"had\", \"has\", \"have\", \"having\", \"he\", \"he'd\", \"he'll\", \"he's\", \"her\", \"here\", \n",
    "             \"here's\", \"hers\", \"herself\", \"him\", \"himself\", \"his\", \"how\", \"how's\", \"i\", \"i'd\", \n",
    "             \"i'll\", \"i'm\", \"i've\", \"if\", \"in\", \"into\", \"is\", \"it\", \"it's\", \"its\", \"itself\", \n",
    "             \"let's\", \"me\", \"more\", \"most\", \"my\", \"myself\", \"nor\", \"of\", \"on\", \"once\", \"only\", \n",
    "             \"or\", \"other\", \"ought\", \"our\", \"ours\", \"ourselves\", \"out\", \"over\", \"own\", \"same\", \n",
    "             \"she\", \"she'd\", \"she'll\", \"she's\", \"should\", \"so\", \"some\", \"such\", \"than\", \"that\", \n",
    "             \"that's\", \"the\", \"their\", \"theirs\", \"them\", \"themselves\", \"then\", \"there\", \"there's\", \n",
    "             \"these\", \"they\", \"they'd\", \"they'll\", \"they're\", \"they've\", \"this\", \"those\", \"through\", \n",
    "             \"to\", \"too\", \"under\", \"until\", \"up\", \"very\", \"was\", \"we\", \"we'd\", \"we'll\", \"we're\", \n",
    "             \"we've\", \"were\", \"what\", \"what's\", \"when\", \"when's\", \"where\", \"where's\", \"which\", \n",
    "             \"while\", \"who\", \"who's\", \"whom\", \"why\", \"why's\", \"with\", \"would\", \"you\", \"you'd\", \n",
    "             \"you'll\", \"you're\", \"you've\", \"your\", \"yours\", \"yourself\", \"yourselves\" ]\n",
    "\n",
    "print(len(stopwords))"
   ]
  },
  {
   "cell_type": "code",
   "execution_count": 4,
   "metadata": {},
   "outputs": [
    {
     "name": "stdout",
     "output_type": "stream",
     "text": [
      "2225\n"
     ]
    }
   ],
   "source": [
    "with open('bbc-text.csv', 'r') as csvfile:\n",
    "    data = csv.reader(csvfile, delimiter=',')\n",
    "    next(data)\n",
    "    for row in data:\n",
    "        labels.append(row[0])\n",
    "        sentence = row[1]\n",
    "        for word in stopwords:\n",
    "            token = \" \" + word + \" \"\n",
    "            sentence = sentence.replace(token, \" \")\n",
    "            sentence = sentence.replace(\" \", \" \")\n",
    "        sentences.append(sentence)\n",
    "        \n",
    "print(len(sentences))"
   ]
  },
  {
   "cell_type": "code",
   "execution_count": 5,
   "metadata": {},
   "outputs": [
    {
     "name": "stdout",
     "output_type": "stream",
     "text": [
      "1780\n",
      "1780\n",
      "1780\n",
      "445\n",
      "445\n"
     ]
    }
   ],
   "source": [
    "train_size = int(training_portion*len(sentences))\n",
    "\n",
    "train_sentences = sentences[:train_size]\n",
    "train_labels = labels[:train_size]\n",
    "\n",
    "validation_sentences = sentences[train_size:]\n",
    "validation_labels = labels[train_size:]\n",
    "\n",
    "print(train_size)\n",
    "print(len(train_sentences))\n",
    "print(len(train_labels))\n",
    "print(len(validation_sentences))\n",
    "print(len(validation_labels))"
   ]
  },
  {
   "cell_type": "code",
   "execution_count": 6,
   "metadata": {},
   "outputs": [
    {
     "data": {
      "text/plain": [
       "{'business', 'entertainment', 'politics', 'sport', 'tech'}"
      ]
     },
     "execution_count": 6,
     "metadata": {},
     "output_type": "execute_result"
    }
   ],
   "source": [
    "set(train_labels)"
   ]
  },
  {
   "cell_type": "code",
   "execution_count": 6,
   "metadata": {},
   "outputs": [
    {
     "name": "stdout",
     "output_type": "stream",
     "text": [
      "449\n",
      "120\n",
      "200\n",
      "120\n",
      "192\n",
      "120\n"
     ]
    }
   ],
   "source": [
    "tokenizer = Tokenizer(num_words = vocab_size, oov_token = oov_tok)\n",
    "tokenizer.fit_on_texts(train_sentences)\n",
    "word_index = tokenizer.word_index\n",
    "\n",
    "train_sequences = tokenizer.texts_to_sequences(train_sentences)\n",
    "train_padded = pad_sequences(train_sequences, maxlen = max_length, \n",
    "                             padding = padding_type, truncating = trunc_type)\n",
    "\n",
    "print(len(train_sequences[0]))\n",
    "print(len(train_padded[0]))\n",
    "\n",
    "print(len(train_sequences[1]))\n",
    "print(len(train_padded[1]))\n",
    "\n",
    "print(len(train_sequences[10]))\n",
    "print(len(train_padded[10]))\n",
    "\n",
    "# Expected Ouput\n",
    "# 449\n",
    "# 120\n",
    "# 200\n",
    "# 120\n",
    "# 192\n",
    "# 120"
   ]
  },
  {
   "cell_type": "code",
   "execution_count": 7,
   "metadata": {},
   "outputs": [
    {
     "name": "stdout",
     "output_type": "stream",
     "text": [
      "445\n",
      "(445, 120)\n"
     ]
    }
   ],
   "source": [
    "validation_sequences = tokenizer.texts_to_sequences(validation_sentences)\n",
    "validation_padded = pad_sequences(validation_sequences, maxlen = max_length,\n",
    "                                  padding = padding_type, truncating = trunc_type)\n",
    "\n",
    "print(len(validation_sequences))\n",
    "print(validation_padded.shape)"
   ]
  },
  {
   "cell_type": "code",
   "execution_count": 13,
   "metadata": {},
   "outputs": [
    {
     "name": "stdout",
     "output_type": "stream",
     "text": [
      "[4]\n",
      "[2]\n",
      "[1]\n",
      "(1780, 1)\n",
      "[5]\n",
      "[4]\n",
      "[3]\n",
      "(445, 1)\n"
     ]
    }
   ],
   "source": [
    "label_tokenizer = Tokenizer()\n",
    "label_tokenizer.fit_on_texts(labels)\n",
    "\n",
    "training_label_seq = np.array(label_tokenizer.texts_to_sequences(train_labels))\n",
    "validation_label_seq = np.array(label_tokenizer.texts_to_sequences(validation_labels))\n",
    "\n",
    "print(training_label_seq[0])\n",
    "print(training_label_seq[1])\n",
    "print(training_label_seq[2])\n",
    "print(training_label_seq.shape)\n",
    "\n",
    "print(validation_label_seq[0])\n",
    "print(validation_label_seq[1])\n",
    "print(validation_label_seq[2])\n",
    "print(validation_label_seq.shape)\n",
    "\n",
    "# Expected output\n",
    "# [4]\n",
    "# [2]\n",
    "# [1]\n",
    "# (1780, 1)\n",
    "# [5]\n",
    "# [4]\n",
    "# [3]\n",
    "# (445, 1)"
   ]
  },
  {
   "cell_type": "code",
   "execution_count": 14,
   "metadata": {},
   "outputs": [
    {
     "name": "stdout",
     "output_type": "stream",
     "text": [
      "Model: \"sequential_1\"\n",
      "_________________________________________________________________\n",
      "Layer (type)                 Output Shape              Param #   \n",
      "=================================================================\n",
      "embedding_1 (Embedding)      (None, 120, 16)           160000    \n",
      "_________________________________________________________________\n",
      "global_average_pooling1d_1 ( (None, 16)                0         \n",
      "_________________________________________________________________\n",
      "dense_2 (Dense)              (None, 24)                408       \n",
      "_________________________________________________________________\n",
      "dense_3 (Dense)              (None, 6)                 150       \n",
      "=================================================================\n",
      "Total params: 160,558\n",
      "Trainable params: 160,558\n",
      "Non-trainable params: 0\n",
      "_________________________________________________________________\n"
     ]
    }
   ],
   "source": [
    "model = tf.keras.Sequential([\n",
    "    tf.keras.layers.Embedding(vocab_size, embedding_dim, input_length=max_length),\n",
    "    tf.keras.layers.GlobalAveragePooling1D(),\n",
    "    tf.keras.layers.Dense(24, activation = 'relu'),\n",
    "    tf.keras.layers.Dense(6, activation = 'softmax')\n",
    "])\n",
    "model.compile(loss='sparse_categorical_crossentropy',optimizer='adam',metrics=['accuracy'])\n",
    "model.summary()\n",
    "\n",
    "# Expected Output\n",
    "# Layer (type)                 Output Shape              Param #   \n",
    "# =================================================================\n",
    "# embedding (Embedding)        (None, 120, 16)           16000     \n",
    "# _________________________________________________________________\n",
    "# global_average_pooling1d (Gl (None, 16)                0         \n",
    "# _________________________________________________________________\n",
    "# dense (Dense)                (None, 24)                408       \n",
    "# _________________________________________________________________\n",
    "# dense_1 (Dense)              (None, 6)                 150       \n",
    "# =================================================================\n",
    "# Total params: 16,558\n",
    "# Trainable params: 16,558\n",
    "# Non-trainable params: 0"
   ]
  },
  {
   "cell_type": "code",
   "execution_count": 15,
   "metadata": {},
   "outputs": [
    {
     "name": "stdout",
     "output_type": "stream",
     "text": [
      "Train on 1780 samples, validate on 445 samples\n",
      "Epoch 1/30\n",
      "1780/1780 - 2s - loss: 1.7590 - accuracy: 0.4455 - val_loss: 1.7098 - val_accuracy: 0.6225\n",
      "Epoch 2/30\n",
      "1780/1780 - 0s - loss: 1.6364 - accuracy: 0.6107 - val_loss: 1.5439 - val_accuracy: 0.6831\n",
      "Epoch 3/30\n",
      "1780/1780 - 0s - loss: 1.4008 - accuracy: 0.7888 - val_loss: 1.2780 - val_accuracy: 0.7573\n",
      "Epoch 4/30\n",
      "1780/1780 - 0s - loss: 1.0797 - accuracy: 0.8640 - val_loss: 0.9764 - val_accuracy: 0.8697\n",
      "Epoch 5/30\n",
      "1780/1780 - 1s - loss: 0.7722 - accuracy: 0.9449 - val_loss: 0.7304 - val_accuracy: 0.9124\n",
      "Epoch 6/30\n",
      "1780/1780 - 1s - loss: 0.5305 - accuracy: 0.9674 - val_loss: 0.5469 - val_accuracy: 0.9303\n",
      "Epoch 7/30\n",
      "1780/1780 - 0s - loss: 0.3624 - accuracy: 0.9792 - val_loss: 0.4215 - val_accuracy: 0.9416\n",
      "Epoch 8/30\n",
      "1780/1780 - 1s - loss: 0.2493 - accuracy: 0.9848 - val_loss: 0.3351 - val_accuracy: 0.9506\n",
      "Epoch 9/30\n",
      "1780/1780 - 0s - loss: 0.1746 - accuracy: 0.9916 - val_loss: 0.2770 - val_accuracy: 0.9461\n",
      "Epoch 10/30\n",
      "1780/1780 - 0s - loss: 0.1254 - accuracy: 0.9938 - val_loss: 0.2391 - val_accuracy: 0.9461\n",
      "Epoch 11/30\n",
      "1780/1780 - 0s - loss: 0.0922 - accuracy: 0.9978 - val_loss: 0.2120 - val_accuracy: 0.9506\n",
      "Epoch 12/30\n",
      "1780/1780 - 0s - loss: 0.0689 - accuracy: 0.9983 - val_loss: 0.1926 - val_accuracy: 0.9528\n",
      "Epoch 13/30\n",
      "1780/1780 - 0s - loss: 0.0527 - accuracy: 0.9994 - val_loss: 0.1783 - val_accuracy: 0.9528\n",
      "Epoch 14/30\n",
      "1780/1780 - 0s - loss: 0.0411 - accuracy: 1.0000 - val_loss: 0.1685 - val_accuracy: 0.9528\n",
      "Epoch 15/30\n",
      "1780/1780 - 0s - loss: 0.0327 - accuracy: 1.0000 - val_loss: 0.1609 - val_accuracy: 0.9573\n",
      "Epoch 16/30\n",
      "1780/1780 - 0s - loss: 0.0264 - accuracy: 1.0000 - val_loss: 0.1549 - val_accuracy: 0.9573\n",
      "Epoch 17/30\n",
      "1780/1780 - 0s - loss: 0.0217 - accuracy: 1.0000 - val_loss: 0.1502 - val_accuracy: 0.9573\n",
      "Epoch 18/30\n",
      "1780/1780 - 0s - loss: 0.0180 - accuracy: 1.0000 - val_loss: 0.1468 - val_accuracy: 0.9573\n",
      "Epoch 19/30\n",
      "1780/1780 - 0s - loss: 0.0152 - accuracy: 1.0000 - val_loss: 0.1443 - val_accuracy: 0.9573\n",
      "Epoch 20/30\n",
      "1780/1780 - 0s - loss: 0.0130 - accuracy: 1.0000 - val_loss: 0.1418 - val_accuracy: 0.9573\n",
      "Epoch 21/30\n",
      "1780/1780 - 1s - loss: 0.0112 - accuracy: 1.0000 - val_loss: 0.1399 - val_accuracy: 0.9551\n",
      "Epoch 22/30\n",
      "1780/1780 - 0s - loss: 0.0097 - accuracy: 1.0000 - val_loss: 0.1385 - val_accuracy: 0.9551\n",
      "Epoch 23/30\n",
      "1780/1780 - 0s - loss: 0.0085 - accuracy: 1.0000 - val_loss: 0.1370 - val_accuracy: 0.9551\n",
      "Epoch 24/30\n",
      "1780/1780 - 0s - loss: 0.0075 - accuracy: 1.0000 - val_loss: 0.1362 - val_accuracy: 0.9528\n",
      "Epoch 25/30\n",
      "1780/1780 - 0s - loss: 0.0067 - accuracy: 1.0000 - val_loss: 0.1352 - val_accuracy: 0.9528\n",
      "Epoch 26/30\n",
      "1780/1780 - 0s - loss: 0.0060 - accuracy: 1.0000 - val_loss: 0.1347 - val_accuracy: 0.9528\n",
      "Epoch 27/30\n",
      "1780/1780 - 0s - loss: 0.0054 - accuracy: 1.0000 - val_loss: 0.1342 - val_accuracy: 0.9528\n",
      "Epoch 28/30\n",
      "1780/1780 - 1s - loss: 0.0048 - accuracy: 1.0000 - val_loss: 0.1337 - val_accuracy: 0.9528\n",
      "Epoch 29/30\n",
      "1780/1780 - 0s - loss: 0.0044 - accuracy: 1.0000 - val_loss: 0.1332 - val_accuracy: 0.9528\n",
      "Epoch 30/30\n",
      "1780/1780 - 0s - loss: 0.0040 - accuracy: 1.0000 - val_loss: 0.1330 - val_accuracy: 0.9528\n"
     ]
    }
   ],
   "source": [
    "num_epochs = 30\n",
    "history = model.fit(train_padded, training_label_seq, epochs = num_epochs,\n",
    "                    validation_data = (validation_padded, validation_label_seq),\n",
    "                    verbose=2)"
   ]
  },
  {
   "cell_type": "code",
   "execution_count": 18,
   "metadata": {},
   "outputs": [
    {
     "data": {
      "image/png": "[encoded data removed]",
      "text/plain": [
       "<Figure size 432x288 with 1 Axes>"
      ]
     },
     "metadata": {},
     "output_type": "display_data"
    },
    {
     "data": {
      "image/png": "[encoded data removed]",
      "text/plain": [
       "<Figure size 432x288 with 1 Axes>"
      ]
     },
     "metadata": {},
     "output_type": "display_data"
    }
   ],
   "source": [
    "import matplotlib.pyplot as plt\n",
    "plt.style.use('dark_background')\n",
    "\n",
    "def plot_graphs(history, string):\n",
    "  plt.plot(history.history[string])\n",
    "  plt.plot(history.history['val_'+string])\n",
    "  plt.xlabel(\"Epochs\")\n",
    "  plt.ylabel(string)\n",
    "  plt.legend([string, 'val_'+string])\n",
    "  plt.show()\n",
    "  \n",
    "plot_graphs(history, \"accuracy\")\n",
    "plot_graphs(history, \"loss\")"
   ]
  },
  {
   "cell_type": "code",
   "execution_count": 19,
   "metadata": {},
   "outputs": [],
   "source": [
    "reverse_word_index = dict([(value, key) for (key, value) in word_index.items()])\n",
    "\n",
    "def decode_sentence(text):\n",
    "    return ' '.join([reverse_word_index.get(i, '?') for i in text])"
   ]
  },
  {
   "cell_type": "code",
   "execution_count": 21,
   "metadata": {},
   "outputs": [
    {
     "name": "stdout",
     "output_type": "stream",
     "text": [
      "(10000, 16)\n"
     ]
    }
   ],
   "source": [
    "e = model.layers[0]\n",
    "weights = e.get_weights()[0]\n",
    "print(weights.shape) # shape: (vocab_size, embedding_dim)"
   ]
  },
  {
   "cell_type": "code",
   "execution_count": null,
   "metadata": {},
   "outputs": [],
   "source": []
  }
 ],
 "metadata": {
  "kernelspec": {
   "display_name": "Python 3",
   "language": "python",
   "name": "python3"
  },
  "language_info": {
   "codemirror_mode": {
    "name": "ipython",
    "version": 3
   },
   "file_extension": ".py",
   "mimetype": "text/x-python",
   "name": "python",
   "nbconvert_exporter": "python",
   "pygments_lexer": "ipython3",
   "version": "3.7.6"
  }
 },
 "nbformat": 4,
 "nbformat_minor": 4
}
