{
 "cells": [
  {
   "cell_type": "code",
   "execution_count": 5,
   "metadata": {},
   "outputs": [],
   "source": [
    "import json\n",
    "import tensorflow as tf\n",
    "import csv\n",
    "import random\n",
    "import numpy as np\n",
    "\n",
    "from tensorflow.keras.preprocessing.text import Tokenizer\n",
    "from tensorflow.keras.preprocessing.sequence import pad_sequences\n",
    "from tensorflow.keras.utils import to_categorical\n",
    "from tensorflow.keras import regularizers\n",
    "\n",
    "\n",
    "embedding_dim = 100\n",
    "max_length = 16\n",
    "trunc_type='post'\n",
    "padding_type='post'\n",
    "oov_tok = \"<OOV>\"\n",
    "training_size = 160000\n",
    "test_portion=.1\n",
    "\n",
    "corpus = []"
   ]
  },
  {
   "cell_type": "code",
   "execution_count": 6,
   "metadata": {},
   "outputs": [],
   "source": [
    "num_sentences = 0\n",
    "\n",
    "with open(\"training_cleaned.csv\", encoding='utf8') as csvfile:\n",
    "    reader = csv.reader(csvfile, delimiter=',')\n",
    "    for row in reader:\n",
    "        list_item = []\n",
    "        list_item.append(row[5])\n",
    "        this_label = row[0]\n",
    "        \n",
    "        if this_label == '0':\n",
    "            list_item.append(0)\n",
    "        else:\n",
    "            list_item.append(1)\n",
    "        \n",
    "        num_sentences = num_sentences + 1\n",
    "        corpus.append(list_item)"
   ]
  },
  {
   "cell_type": "code",
   "execution_count": 30,
   "metadata": {},
   "outputs": [
    {
     "name": "stdout",
     "output_type": "stream",
     "text": [
      "1600000\n",
      "1600000\n",
      "[\"is upset that he can't update his Facebook by texting it... and might cry as a result  School today also. Blah!\", 0]\n"
     ]
    }
   ],
   "source": [
    "print(num_sentences)\n",
    "print(len(corpus))\n",
    "print(corpus[1])"
   ]
  },
  {
   "cell_type": "code",
   "execution_count": 47,
   "metadata": {},
   "outputs": [],
   "source": [
    "sentences=[]\n",
    "labels=[]\n",
    "random.shuffle(corpus)\n",
    "for x in range(training_size):\n",
    "    sentences.append(corpus[x][0])\n",
    "    labels.append(corpus[x][1])\n",
    "\n",
    "\n",
    "tokenizer = Tokenizer()\n",
    "tokenizer.fit_on_texts(sentences)\n",
    "\n",
    "word_index = tokenizer.word_index\n",
    "vocab_size=len(word_index)\n",
    "\n",
    "sequences = tokenizer.texts_to_sequences(sentences)\n",
    "padded = pad_sequences(sequences, maxlen = max_length, \n",
    "                       padding = padding_type, truncating = trunc_type)\n",
    "\n",
    "split = int(test_portion * training_size)\n",
    "\n",
    "test_sequences = padded[split:]\n",
    "training_sequences = padded[:split]\n",
    "test_labels = np.array(labels[split:])\n",
    "training_labels = np.array(labels[:split])"
   ]
  },
  {
   "cell_type": "code",
   "execution_count": 48,
   "metadata": {},
   "outputs": [
    {
     "name": "stdout",
     "output_type": "stream",
     "text": [
      "138590\n",
      "1\n"
     ]
    }
   ],
   "source": [
    "print(vocab_size)\n",
    "print(word_index['i'])"
   ]
  },
  {
   "cell_type": "code",
   "execution_count": 49,
   "metadata": {},
   "outputs": [],
   "source": [
    "embeddings_index = {};\n",
    "with open('glove.6B.100d.txt', encoding='utf8') as f:\n",
    "    for line in f:\n",
    "        values = line.split();\n",
    "        word = values[0];\n",
    "        coefs = np.asarray(values[1:], dtype='float32');\n",
    "        embeddings_index[word] = coefs;\n",
    "\n",
    "embeddings_matrix = np.zeros((vocab_size+1, embedding_dim));\n",
    "for word, i in word_index.items():\n",
    "    embedding_vector = embeddings_index.get(word);\n",
    "    if embedding_vector is not None:\n",
    "        embeddings_matrix[i] = embedding_vector;"
   ]
  },
  {
   "cell_type": "code",
   "execution_count": 50,
   "metadata": {},
   "outputs": [
    {
     "name": "stdout",
     "output_type": "stream",
     "text": [
      "138591\n"
     ]
    }
   ],
   "source": [
    "print(len(embeddings_matrix))"
   ]
  },
  {
   "cell_type": "code",
   "execution_count": 51,
   "metadata": {},
   "outputs": [
    {
     "name": "stdout",
     "output_type": "stream",
     "text": [
      "Model: \"sequential_2\"\n",
      "_________________________________________________________________\n",
      "Layer (type)                 Output Shape              Param #   \n",
      "=================================================================\n",
      "embedding_2 (Embedding)      (None, 16, 100)           13859100  \n",
      "_________________________________________________________________\n",
      "bidirectional_4 (Bidirection (None, 16, 128)           84480     \n",
      "_________________________________________________________________\n",
      "bidirectional_5 (Bidirection (None, 64)                41216     \n",
      "_________________________________________________________________\n",
      "dense_4 (Dense)              (None, 64)                4160      \n",
      "_________________________________________________________________\n",
      "dense_5 (Dense)              (None, 1)                 65        \n",
      "=================================================================\n",
      "Total params: 13,989,021\n",
      "Trainable params: 129,921\n",
      "Non-trainable params: 13,859,100\n",
      "_________________________________________________________________\n",
      "Train on 16000 samples, validate on 144000 samples\n",
      "Epoch 1/50\n",
      "16000/16000 - 81s - loss: 0.6033 - accuracy: 0.6653 - val_loss: 0.5642 - val_accuracy: 0.7078\n",
      "Epoch 2/50\n",
      "16000/16000 - 65s - loss: 0.5455 - accuracy: 0.7136 - val_loss: 0.5466 - val_accuracy: 0.7188\n",
      "Epoch 3/50\n",
      "16000/16000 - 62s - loss: 0.5155 - accuracy: 0.7431 - val_loss: 0.5391 - val_accuracy: 0.7288\n",
      "Epoch 4/50\n",
      "16000/16000 - 61s - loss: 0.4893 - accuracy: 0.7573 - val_loss: 0.5342 - val_accuracy: 0.7262\n",
      "Epoch 5/50\n",
      "16000/16000 - 62s - loss: 0.4598 - accuracy: 0.7759 - val_loss: 0.5427 - val_accuracy: 0.7202\n",
      "Epoch 6/50\n",
      "16000/16000 - 62s - loss: 0.4258 - accuracy: 0.7993 - val_loss: 0.5567 - val_accuracy: 0.7280\n",
      "Epoch 7/50\n",
      "16000/16000 - 58s - loss: 0.3891 - accuracy: 0.8192 - val_loss: 0.6009 - val_accuracy: 0.7303\n",
      "Epoch 8/50\n",
      "16000/16000 - 59s - loss: 0.3364 - accuracy: 0.8521 - val_loss: 0.6313 - val_accuracy: 0.7226\n",
      "Epoch 9/50\n",
      "16000/16000 - 60s - loss: 0.2897 - accuracy: 0.8747 - val_loss: 0.7059 - val_accuracy: 0.7171\n",
      "Epoch 10/50\n",
      "16000/16000 - 59s - loss: 0.2359 - accuracy: 0.9007 - val_loss: 0.7981 - val_accuracy: 0.7147\n",
      "Epoch 11/50\n",
      "16000/16000 - 59s - loss: 0.1899 - accuracy: 0.9220 - val_loss: 1.0110 - val_accuracy: 0.7153\n",
      "Epoch 12/50\n",
      "16000/16000 - 59s - loss: 0.1442 - accuracy: 0.9453 - val_loss: 1.1712 - val_accuracy: 0.7013\n",
      "Epoch 13/50\n",
      "16000/16000 - 60s - loss: 0.1208 - accuracy: 0.9523 - val_loss: 1.2158 - val_accuracy: 0.6972\n",
      "Epoch 14/50\n",
      "16000/16000 - 64s - loss: 0.0873 - accuracy: 0.9659 - val_loss: 1.3642 - val_accuracy: 0.7082\n",
      "Epoch 15/50\n",
      "16000/16000 - 59s - loss: 0.0796 - accuracy: 0.9697 - val_loss: 1.4668 - val_accuracy: 0.7045\n",
      "Epoch 16/50\n",
      "16000/16000 - 58s - loss: 0.0607 - accuracy: 0.9778 - val_loss: 1.6985 - val_accuracy: 0.6951\n",
      "Epoch 17/50\n",
      "16000/16000 - 59s - loss: 0.0644 - accuracy: 0.9763 - val_loss: 1.6273 - val_accuracy: 0.6921\n",
      "Epoch 18/50\n",
      "16000/16000 - 60s - loss: 0.0541 - accuracy: 0.9796 - val_loss: 1.7786 - val_accuracy: 0.7039\n",
      "Epoch 19/50\n",
      "16000/16000 - 58s - loss: 0.0507 - accuracy: 0.9805 - val_loss: 1.7757 - val_accuracy: 0.7104\n",
      "Epoch 20/50\n",
      "16000/16000 - 57s - loss: 0.0408 - accuracy: 0.9840 - val_loss: 1.7865 - val_accuracy: 0.7074\n",
      "Epoch 21/50\n",
      "16000/16000 - 56s - loss: 0.0457 - accuracy: 0.9807 - val_loss: 1.8525 - val_accuracy: 0.7043\n",
      "Epoch 22/50\n",
      "16000/16000 - 57s - loss: 0.0413 - accuracy: 0.9858 - val_loss: 1.9330 - val_accuracy: 0.6955\n",
      "Epoch 23/50\n",
      "16000/16000 - 57s - loss: 0.0291 - accuracy: 0.9889 - val_loss: 2.1669 - val_accuracy: 0.7055\n",
      "Epoch 24/50\n",
      "16000/16000 - 57s - loss: 0.0325 - accuracy: 0.9875 - val_loss: 2.0806 - val_accuracy: 0.6935\n",
      "Epoch 25/50\n",
      "16000/16000 - 57s - loss: 0.0400 - accuracy: 0.9853 - val_loss: 2.0649 - val_accuracy: 0.7058\n",
      "Epoch 26/50\n",
      "16000/16000 - 58s - loss: 0.0266 - accuracy: 0.9900 - val_loss: 2.1778 - val_accuracy: 0.7045\n",
      "Epoch 27/50\n",
      "16000/16000 - 60s - loss: 0.0402 - accuracy: 0.9846 - val_loss: 2.0750 - val_accuracy: 0.7072\n",
      "Epoch 28/50\n",
      "16000/16000 - 57s - loss: 0.0234 - accuracy: 0.9904 - val_loss: 2.2008 - val_accuracy: 0.7066\n",
      "Epoch 29/50\n",
      "16000/16000 - 58s - loss: 0.0358 - accuracy: 0.9868 - val_loss: 2.1801 - val_accuracy: 0.6932\n",
      "Epoch 30/50\n",
      "16000/16000 - 57s - loss: 0.0306 - accuracy: 0.9874 - val_loss: 2.0719 - val_accuracy: 0.7001\n",
      "Epoch 31/50\n",
      "16000/16000 - 57s - loss: 0.0255 - accuracy: 0.9904 - val_loss: 1.9892 - val_accuracy: 0.6956\n",
      "Epoch 32/50\n",
      "16000/16000 - 58s - loss: 0.0254 - accuracy: 0.9903 - val_loss: 2.2763 - val_accuracy: 0.6939\n",
      "Epoch 33/50\n",
      "16000/16000 - 56s - loss: 0.0266 - accuracy: 0.9900 - val_loss: 2.2025 - val_accuracy: 0.7040\n",
      "Epoch 34/50\n",
      "16000/16000 - 58s - loss: 0.0192 - accuracy: 0.9919 - val_loss: 2.3614 - val_accuracy: 0.7037\n",
      "Epoch 35/50\n",
      "16000/16000 - 60s - loss: 0.0306 - accuracy: 0.9871 - val_loss: 2.3420 - val_accuracy: 0.7019\n",
      "Epoch 36/50\n",
      "16000/16000 - 61s - loss: 0.0242 - accuracy: 0.9904 - val_loss: 2.3022 - val_accuracy: 0.7014\n",
      "Epoch 37/50\n",
      "16000/16000 - 64s - loss: 0.0170 - accuracy: 0.9923 - val_loss: 2.3471 - val_accuracy: 0.6968\n",
      "Epoch 38/50\n",
      "16000/16000 - 62s - loss: 0.0259 - accuracy: 0.9900 - val_loss: 2.3327 - val_accuracy: 0.7050\n",
      "Epoch 39/50\n",
      "16000/16000 - 59s - loss: 0.0252 - accuracy: 0.9896 - val_loss: 2.3066 - val_accuracy: 0.7011\n",
      "Epoch 40/50\n",
      "16000/16000 - 56s - loss: 0.0187 - accuracy: 0.9924 - val_loss: 2.3653 - val_accuracy: 0.7020\n",
      "Epoch 41/50\n",
      "16000/16000 - 53s - loss: 0.0168 - accuracy: 0.9926 - val_loss: 2.5533 - val_accuracy: 0.7070\n",
      "Epoch 42/50\n",
      "16000/16000 - 55s - loss: 0.0280 - accuracy: 0.9893 - val_loss: 2.3227 - val_accuracy: 0.7037\n",
      "Epoch 43/50\n",
      "16000/16000 - 55s - loss: 0.0202 - accuracy: 0.9924 - val_loss: 2.4004 - val_accuracy: 0.7064\n",
      "Epoch 44/50\n",
      "16000/16000 - 55s - loss: 0.0201 - accuracy: 0.9927 - val_loss: 2.3455 - val_accuracy: 0.6986\n",
      "Epoch 45/50\n",
      "16000/16000 - 53s - loss: 0.0176 - accuracy: 0.9929 - val_loss: 2.3923 - val_accuracy: 0.7003\n",
      "Epoch 46/50\n",
      "16000/16000 - 54s - loss: 0.0093 - accuracy: 0.9955 - val_loss: 2.5365 - val_accuracy: 0.7067\n",
      "Epoch 47/50\n",
      "16000/16000 - 52s - loss: 0.0241 - accuracy: 0.9906 - val_loss: 2.5073 - val_accuracy: 0.7071\n",
      "Epoch 48/50\n",
      "16000/16000 - 53s - loss: 0.0291 - accuracy: 0.9891 - val_loss: 2.3647 - val_accuracy: 0.7067\n",
      "Epoch 49/50\n",
      "16000/16000 - 53s - loss: 0.0147 - accuracy: 0.9939 - val_loss: 2.4685 - val_accuracy: 0.7046\n",
      "Epoch 50/50\n",
      "16000/16000 - 53s - loss: 0.0147 - accuracy: 0.9934 - val_loss: 2.4651 - val_accuracy: 0.7102\n",
      "Training Complete\n"
     ]
    }
   ],
   "source": [
    "model = tf.keras.Sequential([\n",
    "    tf.keras.layers.Embedding(vocab_size+1, embedding_dim, \n",
    "                              input_length=max_length, \n",
    "                              weights=[embeddings_matrix], \n",
    "                              trainable=False),\n",
    "    tf.keras.layers.Bidirectional(tf.keras.layers.LSTM(64, return_sequences=True)),\n",
    "    tf.keras.layers.Bidirectional(tf.keras.layers.LSTM(32)),\n",
    "    tf.keras.layers.Dense(64, activation='relu'),\n",
    "    tf.keras.layers.Dense(1, activation='sigmoid')\n",
    "])\n",
    "\n",
    "model.compile(loss = 'binary_crossentropy', optimizer = 'adam', metrics = ['accuracy'])\n",
    "model.summary()\n",
    "\n",
    "num_epochs = 50\n",
    "history = model.fit(training_sequences, training_labels, epochs=num_epochs, \n",
    "                    validation_data=(test_sequences, test_labels), verbose=2)\n",
    "\n",
    "print(\"Training Complete\")"
   ]
  },
  {
   "cell_type": "code",
   "execution_count": 53,
   "metadata": {},
   "outputs": [
    {
     "data": {
      "text/plain": [
       "<Figure size 432x288 with 0 Axes>"
      ]
     },
     "execution_count": 53,
     "metadata": {},
     "output_type": "execute_result"
    },
    {
     "data": {
      "image/png": "[encoded data removed]",
      "text/plain": [
       "<Figure size 432x288 with 1 Axes>"
      ]
     },
     "metadata": {},
     "output_type": "display_data"
    },
    {
     "data": {
      "image/png": "[encoded data removed]",
      "text/plain": [
       "<Figure size 432x288 with 1 Axes>"
      ]
     },
     "metadata": {},
     "output_type": "display_data"
    },
    {
     "data": {
      "text/plain": [
       "<Figure size 432x288 with 0 Axes>"
      ]
     },
     "metadata": {},
     "output_type": "display_data"
    }
   ],
   "source": [
    "import matplotlib.image  as mpimg\n",
    "import matplotlib.pyplot as plt\n",
    "plt.style.use('dark_background')\n",
    "\n",
    "#-----------------------------------------------------------\n",
    "# Retrieve a list of list results on training and test data\n",
    "# sets for each training epoch\n",
    "#-----------------------------------------------------------\n",
    "acc=history.history['accuracy']\n",
    "val_acc=history.history['val_accuracy']\n",
    "loss=history.history['loss']\n",
    "val_loss=history.history['val_loss']\n",
    "\n",
    "epochs=range(len(acc)) # Get number of epochs\n",
    "\n",
    "#------------------------------------------------\n",
    "# Plot training and validation accuracy per epoch\n",
    "#------------------------------------------------\n",
    "plt.plot(epochs, acc, 'r')\n",
    "plt.plot(epochs, val_acc, 'b')\n",
    "plt.title('Training and validation accuracy')\n",
    "plt.xlabel(\"Epochs\")\n",
    "plt.ylabel(\"Accuracy\")\n",
    "plt.legend([\"Accuracy\", \"Validation Accuracy\"])\n",
    "\n",
    "plt.figure()\n",
    "\n",
    "#------------------------------------------------\n",
    "# Plot training and validation loss per epoch\n",
    "#------------------------------------------------\n",
    "plt.plot(epochs, loss, 'r')\n",
    "plt.plot(epochs, val_loss, 'b')\n",
    "plt.title('Training and validation loss')\n",
    "plt.xlabel(\"Epochs\")\n",
    "plt.ylabel(\"Loss\")\n",
    "plt.legend([\"Loss\", \"Validation Loss\"])\n",
    "\n",
    "plt.figure()\n",
    "\n",
    "\n",
    "# Expected Output\n",
    "# A chart where the validation loss does not increase sharply!"
   ]
  }
 ],
 "metadata": {
  "kernelspec": {
   "display_name": "Python 3",
   "language": "python",
   "name": "python3"
  },
  "language_info": {
   "codemirror_mode": {
    "name": "ipython",
    "version": 3
   },
   "file_extension": ".py",
   "mimetype": "text/x-python",
   "name": "python",
   "nbconvert_exporter": "python",
   "pygments_lexer": "ipython3",
   "version": "3.7.6"
  }
 },
 "nbformat": 4,
 "nbformat_minor": 4
}
